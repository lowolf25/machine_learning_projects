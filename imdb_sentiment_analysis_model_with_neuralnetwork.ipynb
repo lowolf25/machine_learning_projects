{
  "cells": [
    {
      "cell_type": "markdown",
      "metadata": {
        "id": "view-in-github",
        "colab_type": "text"
      },
      "source": [
        "<a href=\"https://colab.research.google.com/github/lowolf25/machine_learning_projects/blob/main/imdb_sentiment_analysis_model_with_neuralnetwork.ipynb\" target=\"_parent\"><img src=\"https://colab.research.google.com/assets/colab-badge.svg\" alt=\"Open In Colab\"/></a>"
      ]
    },
    {
      "cell_type": "markdown",
      "metadata": {
        "id": "EwZa81ThPbt3"
      },
      "source": [
        "## 0. Setting Environment:"
      ]
    },
    {
      "cell_type": "code",
      "execution_count": null,
      "metadata": {
        "id": "bj1dnOyZOUv2",
        "colab": {
          "base_uri": "https://localhost:8080/"
        },
        "outputId": "1fb391af-1661-4e59-f740-bf5a1093ab38"
      },
      "outputs": [
        {
          "output_type": "stream",
          "name": "stdout",
          "text": [
            "Drive already mounted at /content/drive; to attempt to forcibly remount, call drive.mount(\"/content/drive\", force_remount=True).\n"
          ]
        }
      ],
      "source": [
        "# Mounting Google Drive\n",
        "\n",
        "from google.colab import drive\n",
        "drive.mount('/content/drive')"
      ]
    },
    {
      "cell_type": "code",
      "execution_count": null,
      "metadata": {
        "id": "F0M1fdcBOf_Y",
        "colab": {
          "base_uri": "https://localhost:8080/"
        },
        "outputId": "35277892-2e0f-406f-8c64-a1acc2900c65"
      },
      "outputs": [
        {
          "output_type": "stream",
          "name": "stdout",
          "text": [
            "/content/drive/MyDrive/Colab Notebooks/Project (1) _ Sentiment Analysis Model\n",
            "c1_lstm_model_acc_0.865.h5\tc2_lstm_model_acc_0.863.h5  f2_IMDb_Unseen_Reviews.csv\n",
            "c2_IMDb_Unseen_Predictions.csv\tcnn_model_acc_0.851.h5\t    f3_glove.6B.100d.txt\n",
            "c2_lstm_model_acc_0.852.h5\tcnn_model_acc_0.852.h5\t    s1_IMDb_Unseen_Predictions.csv\n",
            "c2_lstm_model_acc_0.854.h5\tcnn_model_acc_0.853.h5\t    sentiment_analysis_model.ipynb\n",
            "c2_lstm_model_acc_0.857.h5\tf1_IMDB_Dataset.csv\n"
          ]
        }
      ],
      "source": [
        "# Setting toolkit folder as working directory\n",
        "\n",
        "%cd /content/drive/MyDrive/Colab Notebooks/Project (1) _ Sentiment Analysis Model\n",
        "! ls"
      ]
    },
    {
      "cell_type": "code",
      "execution_count": null,
      "metadata": {
        "id": "W-vpR9QCOn2i"
      },
      "outputs": [],
      "source": [
        "# Importing libraries\n",
        "\n",
        "import tensorflow as tf\n",
        "import pandas as pd\n",
        "import numpy as np\n",
        "import re\n",
        "import nltk\n",
        "from nltk.corpus import stopwords\n",
        "from numpy import array\n",
        "\n",
        "\n",
        "from keras.preprocessing.text import one_hot, Tokenizer\n",
        "from keras.preprocessing.sequence import pad_sequences\n",
        "from keras.models import Sequential\n",
        "from tensorflow.keras.layers import Activation, Dropout, Dense\n",
        "from keras.layers import Flatten, GlobalMaxPooling1D, Embedding, Conv1D, LSTM\n",
        "from sklearn.model_selection import train_test_split"
      ]
    },
    {
      "cell_type": "markdown",
      "source": [
        "## 1. Data Exploration and Preprocessing:"
      ],
      "metadata": {
        "id": "q6FO9rxjxHe_"
      }
    },
    {
      "cell_type": "code",
      "execution_count": null,
      "metadata": {
        "id": "sNL6yy_DO0n1"
      },
      "outputs": [],
      "source": [
        "# Importing IMDb Movie Reviews dataset\n",
        "\n",
        "movie_reviews = pd.read_csv(\"f1_IMDB_Dataset.csv\")"
      ]
    },
    {
      "cell_type": "code",
      "execution_count": null,
      "metadata": {
        "id": "elu2E2KjPBJX",
        "colab": {
          "base_uri": "https://localhost:8080/"
        },
        "outputId": "f05387d1-21b0-45e5-e1f3-d9fed4b477ad"
      },
      "outputs": [
        {
          "output_type": "execute_result",
          "data": {
            "text/plain": [
              "(50000, 2)"
            ]
          },
          "metadata": {},
          "execution_count": 16
        }
      ],
      "source": [
        "movie_reviews.shape"
      ]
    },
    {
      "cell_type": "code",
      "execution_count": null,
      "metadata": {
        "id": "Ua8sjtdaPIAq",
        "colab": {
          "base_uri": "https://localhost:8080/",
          "height": 143
        },
        "outputId": "002ec766-154a-4c63-ef73-a0f7ec6d9135"
      },
      "outputs": [
        {
          "output_type": "execute_result",
          "data": {
            "text/plain": [
              "                                              review sentiment\n",
              "0  One of the other reviewers has mentioned that ...  positive\n",
              "1  A wonderful little production. <br /><br />The...  positive\n",
              "2  I thought this was a wonderful way to spend ti...  positive"
            ],
            "text/html": [
              "\n",
              "  <div id=\"df-e7688648-cdaa-4757-9fc7-04473e745835\" class=\"colab-df-container\">\n",
              "    <div>\n",
              "<style scoped>\n",
              "    .dataframe tbody tr th:only-of-type {\n",
              "        vertical-align: middle;\n",
              "    }\n",
              "\n",
              "    .dataframe tbody tr th {\n",
              "        vertical-align: top;\n",
              "    }\n",
              "\n",
              "    .dataframe thead th {\n",
              "        text-align: right;\n",
              "    }\n",
              "</style>\n",
              "<table border=\"1\" class=\"dataframe\">\n",
              "  <thead>\n",
              "    <tr style=\"text-align: right;\">\n",
              "      <th></th>\n",
              "      <th>review</th>\n",
              "      <th>sentiment</th>\n",
              "    </tr>\n",
              "  </thead>\n",
              "  <tbody>\n",
              "    <tr>\n",
              "      <th>0</th>\n",
              "      <td>One of the other reviewers has mentioned that ...</td>\n",
              "      <td>positive</td>\n",
              "    </tr>\n",
              "    <tr>\n",
              "      <th>1</th>\n",
              "      <td>A wonderful little production. &lt;br /&gt;&lt;br /&gt;The...</td>\n",
              "      <td>positive</td>\n",
              "    </tr>\n",
              "    <tr>\n",
              "      <th>2</th>\n",
              "      <td>I thought this was a wonderful way to spend ti...</td>\n",
              "      <td>positive</td>\n",
              "    </tr>\n",
              "  </tbody>\n",
              "</table>\n",
              "</div>\n",
              "    <div class=\"colab-df-buttons\">\n",
              "\n",
              "  <div class=\"colab-df-container\">\n",
              "    <button class=\"colab-df-convert\" onclick=\"convertToInteractive('df-e7688648-cdaa-4757-9fc7-04473e745835')\"\n",
              "            title=\"Convert this dataframe to an interactive table.\"\n",
              "            style=\"display:none;\">\n",
              "\n",
              "  <svg xmlns=\"http://www.w3.org/2000/svg\" height=\"24px\" viewBox=\"0 -960 960 960\">\n",
              "    <path d=\"M120-120v-720h720v720H120Zm60-500h600v-160H180v160Zm220 220h160v-160H400v160Zm0 220h160v-160H400v160ZM180-400h160v-160H180v160Zm440 0h160v-160H620v160ZM180-180h160v-160H180v160Zm440 0h160v-160H620v160Z\"/>\n",
              "  </svg>\n",
              "    </button>\n",
              "\n",
              "  <style>\n",
              "    .colab-df-container {\n",
              "      display:flex;\n",
              "      gap: 12px;\n",
              "    }\n",
              "\n",
              "    .colab-df-convert {\n",
              "      background-color: #E8F0FE;\n",
              "      border: none;\n",
              "      border-radius: 50%;\n",
              "      cursor: pointer;\n",
              "      display: none;\n",
              "      fill: #1967D2;\n",
              "      height: 32px;\n",
              "      padding: 0 0 0 0;\n",
              "      width: 32px;\n",
              "    }\n",
              "\n",
              "    .colab-df-convert:hover {\n",
              "      background-color: #E2EBFA;\n",
              "      box-shadow: 0px 1px 2px rgba(60, 64, 67, 0.3), 0px 1px 3px 1px rgba(60, 64, 67, 0.15);\n",
              "      fill: #174EA6;\n",
              "    }\n",
              "\n",
              "    .colab-df-buttons div {\n",
              "      margin-bottom: 4px;\n",
              "    }\n",
              "\n",
              "    [theme=dark] .colab-df-convert {\n",
              "      background-color: #3B4455;\n",
              "      fill: #D2E3FC;\n",
              "    }\n",
              "\n",
              "    [theme=dark] .colab-df-convert:hover {\n",
              "      background-color: #434B5C;\n",
              "      box-shadow: 0px 1px 3px 1px rgba(0, 0, 0, 0.15);\n",
              "      filter: drop-shadow(0px 1px 2px rgba(0, 0, 0, 0.3));\n",
              "      fill: #FFFFFF;\n",
              "    }\n",
              "  </style>\n",
              "\n",
              "    <script>\n",
              "      const buttonEl =\n",
              "        document.querySelector('#df-e7688648-cdaa-4757-9fc7-04473e745835 button.colab-df-convert');\n",
              "      buttonEl.style.display =\n",
              "        google.colab.kernel.accessAllowed ? 'block' : 'none';\n",
              "\n",
              "      async function convertToInteractive(key) {\n",
              "        const element = document.querySelector('#df-e7688648-cdaa-4757-9fc7-04473e745835');\n",
              "        const dataTable =\n",
              "          await google.colab.kernel.invokeFunction('convertToInteractive',\n",
              "                                                    [key], {});\n",
              "        if (!dataTable) return;\n",
              "\n",
              "        const docLinkHtml = 'Like what you see? Visit the ' +\n",
              "          '<a target=\"_blank\" href=https://colab.research.google.com/notebooks/data_table.ipynb>data table notebook</a>'\n",
              "          + ' to learn more about interactive tables.';\n",
              "        element.innerHTML = '';\n",
              "        dataTable['output_type'] = 'display_data';\n",
              "        await google.colab.output.renderOutput(dataTable, element);\n",
              "        const docLink = document.createElement('div');\n",
              "        docLink.innerHTML = docLinkHtml;\n",
              "        element.appendChild(docLink);\n",
              "      }\n",
              "    </script>\n",
              "  </div>\n",
              "\n",
              "\n",
              "<div id=\"df-c544c721-d980-4ad7-99c7-87ec14248a24\">\n",
              "  <button class=\"colab-df-quickchart\" onclick=\"quickchart('df-c544c721-d980-4ad7-99c7-87ec14248a24')\"\n",
              "            title=\"Suggest charts\"\n",
              "            style=\"display:none;\">\n",
              "\n",
              "<svg xmlns=\"http://www.w3.org/2000/svg\" height=\"24px\"viewBox=\"0 0 24 24\"\n",
              "     width=\"24px\">\n",
              "    <g>\n",
              "        <path d=\"M19 3H5c-1.1 0-2 .9-2 2v14c0 1.1.9 2 2 2h14c1.1 0 2-.9 2-2V5c0-1.1-.9-2-2-2zM9 17H7v-7h2v7zm4 0h-2V7h2v10zm4 0h-2v-4h2v4z\"/>\n",
              "    </g>\n",
              "</svg>\n",
              "  </button>\n",
              "\n",
              "<style>\n",
              "  .colab-df-quickchart {\n",
              "      --bg-color: #E8F0FE;\n",
              "      --fill-color: #1967D2;\n",
              "      --hover-bg-color: #E2EBFA;\n",
              "      --hover-fill-color: #174EA6;\n",
              "      --disabled-fill-color: #AAA;\n",
              "      --disabled-bg-color: #DDD;\n",
              "  }\n",
              "\n",
              "  [theme=dark] .colab-df-quickchart {\n",
              "      --bg-color: #3B4455;\n",
              "      --fill-color: #D2E3FC;\n",
              "      --hover-bg-color: #434B5C;\n",
              "      --hover-fill-color: #FFFFFF;\n",
              "      --disabled-bg-color: #3B4455;\n",
              "      --disabled-fill-color: #666;\n",
              "  }\n",
              "\n",
              "  .colab-df-quickchart {\n",
              "    background-color: var(--bg-color);\n",
              "    border: none;\n",
              "    border-radius: 50%;\n",
              "    cursor: pointer;\n",
              "    display: none;\n",
              "    fill: var(--fill-color);\n",
              "    height: 32px;\n",
              "    padding: 0;\n",
              "    width: 32px;\n",
              "  }\n",
              "\n",
              "  .colab-df-quickchart:hover {\n",
              "    background-color: var(--hover-bg-color);\n",
              "    box-shadow: 0 1px 2px rgba(60, 64, 67, 0.3), 0 1px 3px 1px rgba(60, 64, 67, 0.15);\n",
              "    fill: var(--button-hover-fill-color);\n",
              "  }\n",
              "\n",
              "  .colab-df-quickchart-complete:disabled,\n",
              "  .colab-df-quickchart-complete:disabled:hover {\n",
              "    background-color: var(--disabled-bg-color);\n",
              "    fill: var(--disabled-fill-color);\n",
              "    box-shadow: none;\n",
              "  }\n",
              "\n",
              "  .colab-df-spinner {\n",
              "    border: 2px solid var(--fill-color);\n",
              "    border-color: transparent;\n",
              "    border-bottom-color: var(--fill-color);\n",
              "    animation:\n",
              "      spin 1s steps(1) infinite;\n",
              "  }\n",
              "\n",
              "  @keyframes spin {\n",
              "    0% {\n",
              "      border-color: transparent;\n",
              "      border-bottom-color: var(--fill-color);\n",
              "      border-left-color: var(--fill-color);\n",
              "    }\n",
              "    20% {\n",
              "      border-color: transparent;\n",
              "      border-left-color: var(--fill-color);\n",
              "      border-top-color: var(--fill-color);\n",
              "    }\n",
              "    30% {\n",
              "      border-color: transparent;\n",
              "      border-left-color: var(--fill-color);\n",
              "      border-top-color: var(--fill-color);\n",
              "      border-right-color: var(--fill-color);\n",
              "    }\n",
              "    40% {\n",
              "      border-color: transparent;\n",
              "      border-right-color: var(--fill-color);\n",
              "      border-top-color: var(--fill-color);\n",
              "    }\n",
              "    60% {\n",
              "      border-color: transparent;\n",
              "      border-right-color: var(--fill-color);\n",
              "    }\n",
              "    80% {\n",
              "      border-color: transparent;\n",
              "      border-right-color: var(--fill-color);\n",
              "      border-bottom-color: var(--fill-color);\n",
              "    }\n",
              "    90% {\n",
              "      border-color: transparent;\n",
              "      border-bottom-color: var(--fill-color);\n",
              "    }\n",
              "  }\n",
              "</style>\n",
              "\n",
              "  <script>\n",
              "    async function quickchart(key) {\n",
              "      const quickchartButtonEl =\n",
              "        document.querySelector('#' + key + ' button');\n",
              "      quickchartButtonEl.disabled = true;  // To prevent multiple clicks.\n",
              "      quickchartButtonEl.classList.add('colab-df-spinner');\n",
              "      try {\n",
              "        const charts = await google.colab.kernel.invokeFunction(\n",
              "            'suggestCharts', [key], {});\n",
              "      } catch (error) {\n",
              "        console.error('Error during call to suggestCharts:', error);\n",
              "      }\n",
              "      quickchartButtonEl.classList.remove('colab-df-spinner');\n",
              "      quickchartButtonEl.classList.add('colab-df-quickchart-complete');\n",
              "    }\n",
              "    (() => {\n",
              "      let quickchartButtonEl =\n",
              "        document.querySelector('#df-c544c721-d980-4ad7-99c7-87ec14248a24 button');\n",
              "      quickchartButtonEl.style.display =\n",
              "        google.colab.kernel.accessAllowed ? 'block' : 'none';\n",
              "    })();\n",
              "  </script>\n",
              "</div>\n",
              "\n",
              "    </div>\n",
              "  </div>\n"
            ],
            "application/vnd.google.colaboratory.intrinsic+json": {
              "type": "dataframe",
              "variable_name": "movie_reviews",
              "summary": "{\n  \"name\": \"movie_reviews\",\n  \"rows\": 50000,\n  \"fields\": [\n    {\n      \"column\": \"review\",\n      \"properties\": {\n        \"dtype\": \"string\",\n        \"num_unique_values\": 49582,\n        \"samples\": [\n          \"\\\"Soul Plane\\\" is a horrible attempt at comedy that only should appeal people with thick skulls, bloodshot eyes and furry pawns. <br /><br />The plot is not only incoherent but also non-existent, acting is mostly sub sub-par with a gang of highly moronic and dreadful characters thrown in for bad measure, jokes are often spotted miles ahead and almost never even a bit amusing. This movie lacks any structure and is full of racial stereotypes that must have seemed old even in the fifties, the only thing it really has going for it is some pretty ladies, but really, if you want that you can rent something from the \\\"Adult\\\" section. OK?<br /><br />I can hardly see anything here to recommend since you'll probably have a lot a better and productive time chasing rats with a sledgehammer or inventing waterproof teabags or whatever.<br /><br />2/10\",\n          \"Guest from the Future tells a fascinating story of time travel, friendship, battle of good and evil -- all with a small budget, child actors, and few special effects. Something for Spielberg and Lucas to learn from. ;) A sixth-grader Kolya \\\"Nick\\\" Gerasimov finds a time machine in the basement of a decrepit building and travels 100 years into the future. He discovers a near-perfect, utopian society where robots play guitars and write poetry, everyone is kind to each other and people enjoy everything technology has to offer. Alice is the daughter of a prominent scientist who invented a device called Mielophone that allows to read minds of humans and animals. The device can be put to both good and bad use, depending on whose hands it falls into. When two evil space pirates from Saturn who want to rule the universe attempt to steal Mielophone, it falls into the hands of 20th century school boy Nick. With the pirates hot on his tracks, he travels back to his time, followed by the pirates, and Alice. Chaos, confusion and funny situations follow as the luckless pirates try to blend in with the earthlings. Alice enrolls in the same school Nick goes to and demonstrates superhuman abilities in PE class. The catch is, Alice doesn't know what Nick looks like, while the pirates do. Also, the pirates are able to change their appearance and turn literally into anyone. (Hmm, I wonder if this is where James Cameron got the idea for Terminator...) Who gets to Nick -- and Mielophone -- first? Excellent plot, non-stop adventures, and great soundtrack. I wish Hollywood made kid movies like this one...\",\n          \"\\\"National Treasure\\\" (2004) is a thoroughly misguided hodge-podge of plot entanglements that borrow from nearly every cloak and dagger government conspiracy clich\\u00e9 that has ever been written. The film stars Nicholas Cage as Benjamin Franklin Gates (how precious is that, I ask you?); a seemingly normal fellow who, for no other reason than being of a lineage of like-minded misguided fortune hunters, decides to steal a 'national treasure' that has been hidden by the United States founding fathers. After a bit of subtext and background that plays laughably (unintentionally) like Indiana Jones meets The Patriot, the film degenerates into one misguided whimsy after another \\u0096 attempting to create a 'Stanley Goodspeed' regurgitation of Nicholas Cage and launch the whole convoluted mess forward with a series of high octane, but disconnected misadventures.<br /><br />The relevancy and logic to having George Washington and his motley crew of patriots burying a king's ransom someplace on native soil, and then, going through the meticulous plan of leaving clues scattered throughout U.S. currency art work, is something that director Jon Turteltaub never quite gets around to explaining. Couldn't Washington found better usage for such wealth during the start up of the country? Hence, we are left with a mystery built on top of an enigma that is already on shaky ground by the time Ben appoints himself the new custodian of this untold wealth. Ben's intentions are noble \\u0096 if confusing. He's set on protecting the treasure. For who and when?\\u0085your guess is as good as mine.<br /><br />But there are a few problems with Ben's crusade. First up, his friend, Ian Holmes (Sean Bean) decides that he can't wait for Ben to make up his mind about stealing the Declaration of Independence from the National Archives (oh, yeah \\u0096 brilliant idea!). Presumably, the back of that famous document holds the secret answer to the ultimate fortune. So Ian tries to kill Ben. The assassination attempt is, of course, unsuccessful, if overly melodramatic. It also affords Ben the opportunity to pick up, and pick on, the very sultry curator of the archives, Abigail Chase (Diane Kruger). She thinks Ben is clearly a nut \\u0096 at least at the beginning. But true to action/romance form, Abby's resolve melts quicker than you can say, \\\"is that the Hope Diamond?\\\" The film moves into full X-File-ish mode, as the FBI, mistakenly believing that Ben is behind the theft, retaliate in various benign ways that lead to a multi-layering of action sequences reminiscent of Mission Impossible meets The Fugitive. Honestly, don't those guys ever get 'intelligence' information that is correct? In the final analysis, \\\"National Treasure\\\" isn't great film making, so much as it's a patchwork rehash of tired old bits from other movies, woven together from scraps, the likes of which would make IL' Betsy Ross blush.<br /><br />The Buena Vista DVD delivers a far more generous treatment than this film is deserving of. The anamorphic widescreen picture exhibits a very smooth and finely detailed image with very rich colors, natural flesh tones, solid blacks and clean whites. The stylized image is also free of blemishes and digital enhancements. The audio is 5.1 and delivers a nice sonic boom to your side and rear speakers with intensity and realism. Extras include a host of promotional junket material that is rather deep and over the top in its explanation of how and why this film was made. If only, as an audience, we had had more clarification as to why Ben and co. were chasing after an illusive treasure, this might have been one good flick. Extras conclude with the theatrical trailer, audio commentary and deleted scenes. Not for the faint-hearted \\u0096 just the thick-headed.\"\n        ],\n        \"semantic_type\": \"\",\n        \"description\": \"\"\n      }\n    },\n    {\n      \"column\": \"sentiment\",\n      \"properties\": {\n        \"dtype\": \"category\",\n        \"num_unique_values\": 2,\n        \"samples\": [\n          \"negative\",\n          \"positive\"\n        ],\n        \"semantic_type\": \"\",\n        \"description\": \"\"\n      }\n    }\n  ]\n}"
            }
          },
          "metadata": {},
          "execution_count": 17
        }
      ],
      "source": [
        "movie_reviews.head(3)"
      ]
    },
    {
      "cell_type": "code",
      "execution_count": null,
      "metadata": {
        "id": "CRIDYlo4O8Va",
        "colab": {
          "base_uri": "https://localhost:8080/"
        },
        "outputId": "b6cd2c1c-5e99-4ab4-8c70-736aeb87ffb0"
      },
      "outputs": [
        {
          "output_type": "execute_result",
          "data": {
            "text/plain": [
              "False"
            ]
          },
          "metadata": {},
          "execution_count": 18
        }
      ],
      "source": [
        "# Checking for missing values\n",
        "\n",
        "movie_reviews.isnull().values.any()"
      ]
    },
    {
      "cell_type": "code",
      "execution_count": null,
      "metadata": {
        "id": "ys4A3cAFPSYI",
        "colab": {
          "base_uri": "https://localhost:8080/",
          "height": 573
        },
        "outputId": "7760869a-b41f-487f-a2f3-6b3a5fccf704"
      },
      "outputs": [
        {
          "output_type": "stream",
          "name": "stderr",
          "text": [
            "<ipython-input-19-56b120ffcbd9>:4: FutureWarning: \n",
            "\n",
            "Passing `palette` without assigning `hue` is deprecated and will be removed in v0.14.0. Assign the `x` variable to `hue` and set `legend=False` for the same effect.\n",
            "\n",
            "  sns.countplot(x='sentiment', data=movie_reviews, palette=['green','red'])\n"
          ]
        },
        {
          "output_type": "execute_result",
          "data": {
            "text/plain": [
              "<Axes: xlabel='sentiment', ylabel='count'>"
            ]
          },
          "metadata": {},
          "execution_count": 19
        },
        {
          "output_type": "display_data",
          "data": {
            "text/plain": [
              "<Figure size 640x480 with 1 Axes>"
            ],
            "image/png": "[encoded data removed]"
          },
          "metadata": {}
        }
      ],
      "source": [
        "# Observing distribution of positive and negative sentiments in dataset\n",
        "\n",
        "import seaborn as sns\n",
        "sns.countplot(x='sentiment', data=movie_reviews, palette=['green','red'])"
      ]
    },
    {
      "cell_type": "code",
      "execution_count": null,
      "metadata": {
        "id": "PJ6a6aKjPORv",
        "colab": {
          "base_uri": "https://localhost:8080/",
          "height": 139
        },
        "outputId": "9fd6067b-5e4b-40a3-e9ec-519569017ea3"
      },
      "outputs": [
        {
          "output_type": "execute_result",
          "data": {
            "text/plain": [
              "\"Basically there's a family where a little boy (Jake) thinks there's a zombie in his closet & his parents are fighting all the time.<br /><br />This movie is slower than a soap opera... and suddenly, Jake decides to become Rambo and kill the zombie.<br /><br />OK, first of all when you're going to make a film you must Decide if its a thriller or a drama! As a drama the movie is watchable. Parents are divorcing & arguing like in real life. And then we have Jake with his closet which totally ruins all the film! I expected to see a BOOGEYMAN similar movie, and instead i watched a drama with some meaningless thriller spots.<br /><br />3 out of 10 just for the well playing parents & descent dialogs. As for the shots with Jake: just ignore them.\""
            ],
            "application/vnd.google.colaboratory.intrinsic+json": {
              "type": "string"
            }
          },
          "metadata": {},
          "execution_count": 20
        }
      ],
      "source": [
        "# Ckecking some sample of reviews in the dataset\n",
        "\n",
        "movie_reviews[\"review\"][3]"
      ]
    },
    {
      "cell_type": "code",
      "execution_count": null,
      "metadata": {
        "id": "pPFVY9UtPnkY"
      },
      "outputs": [],
      "source": [
        "# Building function to Remove HTML tags and replace anything between opening and closing <> with empty space\n",
        "\n",
        "tag_re = re.compile(r'<[^>]+>')\n",
        "\n",
        "def remove_tags(text):\n",
        "    return tag_re.sub('', text)"
      ]
    },
    {
      "cell_type": "code",
      "source": [
        "# Importing package to Remove Stopwords\n",
        "\n",
        "import nltk\n",
        "nltk.download('stopwords')"
      ],
      "metadata": {
        "id": "D3GyEDf7DwFz",
        "colab": {
          "base_uri": "https://localhost:8080/"
        },
        "outputId": "7b850da2-c446-4f69-add2-b3fdefd71885"
      },
      "execution_count": null,
      "outputs": [
        {
          "output_type": "stream",
          "name": "stderr",
          "text": [
            "[nltk_data] Downloading package stopwords to /root/nltk_data...\n",
            "[nltk_data]   Package stopwords is already up-to-date!\n"
          ]
        },
        {
          "output_type": "execute_result",
          "data": {
            "text/plain": [
              "True"
            ]
          },
          "metadata": {},
          "execution_count": 15
        }
      ]
    },
    {
      "cell_type": "code",
      "execution_count": null,
      "metadata": {
        "id": "QBuD9E20PZDb"
      },
      "outputs": [],
      "source": [
        "\n",
        "# Data Preprocessing\n",
        "\n",
        "# Cleans text data up, leaving only 2 or more char long non-stepwords composed of A-Z & a-z only in lowercase\n",
        "\n",
        "def preprocess_text(sen):\n",
        "\n",
        "    # Convert text to lowercase\n",
        "    sentence = sen.lower()\n",
        "\n",
        "    # Remove html tags\n",
        "    sentence = remove_tags(sentence)\n",
        "\n",
        "    # Remove punctuations and numbers\n",
        "    sentence = re.sub('[^a-zA-Z]', ' ', sentence)\n",
        "\n",
        "    # Single character removal\n",
        "    sentence = re.sub(r\"\\s+[a-zA-Z]\\s+\", ' ', sentence)  # When we remove apostrophe from the word \"Mark's\", the apostrophe is replaced by an empty space. Hence, we are left with single character \"s\" that we are removing here.\n",
        "\n",
        "    # Remove multiple spaces\n",
        "    sentence = re.sub(r'\\s+', ' ', sentence)  # Next, we remove all the single characters and replace it by a space which creates multiple spaces in our text. Finally, we remove the multiple spaces from our text as well.\n",
        "\n",
        "    # Remove Stopwords\n",
        "    pattern = re.compile(r'\\b(' + r'|'.join(stopwords.words('english')) + r')\\b\\s*')\n",
        "    sentence = pattern.sub('', sentence)\n",
        "\n",
        "    return sentence"
      ]
    },
    {
      "cell_type": "code",
      "execution_count": null,
      "metadata": {
        "id": "GPSBPltpQDPp"
      },
      "outputs": [],
      "source": [
        "# Calling preprocessing_text function on movie_reviews\n",
        "\n",
        "X = []\n",
        "sentences = list(movie_reviews['review'])\n",
        "for sen in sentences:\n",
        "    X.append(preprocess_text(sen))"
      ]
    },
    {
      "cell_type": "code",
      "execution_count": null,
      "metadata": {
        "id": "CZXW5YCbQGoW",
        "colab": {
          "base_uri": "https://localhost:8080/",
          "height": 87
        },
        "outputId": "2ba35483-9976-48bb-970b-d4797c6c5c31"
      },
      "outputs": [
        {
          "output_type": "execute_result",
          "data": {
            "text/plain": [
              "'basically family little boy jake thinks zombie closet parents fighting time movie slower soap opera suddenly jake decides become rambo kill zombie ok first going make film must decide thriller drama drama movie watchable parents divorcing arguing like real life jake closet totally ruins film expected see boogeyman similar movie instead watched drama meaningless thriller spots well playing parents descent dialogs shots jake ignore '"
            ],
            "application/vnd.google.colaboratory.intrinsic+json": {
              "type": "string"
            }
          },
          "metadata": {},
          "execution_count": 25
        }
      ],
      "source": [
        "# Sample cleaned up movie review\n",
        "\n",
        "X[3]\n",
        "\n",
        "# As Word Embeddings will be used, stemming/lemmatization is not performed in this preprocessing step"
      ]
    },
    {
      "cell_type": "code",
      "execution_count": null,
      "metadata": {
        "id": "-EKC4DJTQKsB"
      },
      "outputs": [],
      "source": [
        "# Converting sentiment labels to 0 & 1\n",
        "\n",
        "y = movie_reviews['sentiment']\n",
        "\n",
        "y = np.array(list(map(lambda x: 1 if x==\"positive\" else 0, y)))"
      ]
    },
    {
      "cell_type": "code",
      "execution_count": null,
      "metadata": {
        "id": "UZPyxSQVQPT_"
      },
      "outputs": [],
      "source": [
        "# Spliting the dataset into training set for model training and testing set for model evaluation.\n",
        "\n",
        "X_train, X_test, y_train, y_test = train_test_split(X, y, test_size=0.20, random_state=42)\n"
      ]
    },
    {
      "cell_type": "markdown",
      "metadata": {
        "id": "FsF3k9QbQc5q"
      },
      "source": [
        "## 2. Feature Engineering:"
      ]
    },
    {
      "cell_type": "markdown",
      "source": [
        " In this stage, Embedding layer will be built using GloVe word embeddings method which converts our textual data into numeric form. It is then **used as the first layer for the deep learning models in Keras**."
      ],
      "metadata": {
        "id": "hv27X0dUcurD"
      }
    },
    {
      "cell_type": "code",
      "source": [
        "# Embedding layer in Neural Network expects the words to be in numeric form\n",
        "# Using Tokenizer function from keras.preprocessing.text library\n",
        "# Method fit_on_text trains the tokenizer\n",
        "# Method texts_to_sequences converts sentences to their numeric form\n",
        "\n",
        "word_tokenizer = Tokenizer()\n",
        "word_tokenizer.fit_on_texts(X_train)\n",
        "\n",
        "X_train = word_tokenizer.texts_to_sequences(X_train)\n",
        "X_test = word_tokenizer.texts_to_sequences(X_test)"
      ],
      "metadata": {
        "id": "kZ5kWzGKeAgc"
      },
      "execution_count": null,
      "outputs": []
    },
    {
      "cell_type": "code",
      "source": [
        "# Adding 1 to store dimensions for words for which no pretrained word embeddings exist\n",
        "\n",
        "vocab_length = len(word_tokenizer.word_index) + 1\n",
        "\n",
        "vocab_length"
      ],
      "metadata": {
        "id": "vn-Rj21reKVm",
        "colab": {
          "base_uri": "https://localhost:8080/"
        },
        "outputId": "05279945-bb40-40f8-96de-a84345f190dd"
      },
      "execution_count": null,
      "outputs": [
        {
          "output_type": "execute_result",
          "data": {
            "text/plain": [
              "92394"
            ]
          },
          "metadata": {},
          "execution_count": 29
        }
      ]
    },
    {
      "cell_type": "code",
      "source": [
        "# Padding all reviews to fixed length 100\n",
        "\n",
        "maxlen = 100\n",
        "\n",
        "X_train = pad_sequences(X_train, padding='post', maxlen=maxlen)\n",
        "X_test = pad_sequences(X_test, padding='post', maxlen=maxlen)"
      ],
      "metadata": {
        "id": "9-QqBAR0hz22"
      },
      "execution_count": null,
      "outputs": []
    },
    {
      "cell_type": "code",
      "execution_count": null,
      "metadata": {
        "id": "VH4uFszlRGPk"
      },
      "outputs": [],
      "source": [
        "# Load GloVe word embeddings and create an Embeddings Dictionary\n",
        "\n",
        "from numpy import asarray\n",
        "from numpy import zeros\n",
        "\n",
        "embeddings_dictionary = dict()\n",
        "glove_file = open('f3_glove.6B.100d.txt', encoding=\"utf8\")\n",
        "\n",
        "\n",
        "for line in glove_file:\n",
        "    records = line.split()\n",
        "    word = records[0]\n",
        "    vector_dimensions = asarray(records[1:], dtype='float32')\n",
        "    embeddings_dictionary [word] = vector_dimensions\n",
        "glove_file.close()"
      ]
    },
    {
      "cell_type": "code",
      "execution_count": null,
      "metadata": {
        "id": "ZN6SP61FSDZB"
      },
      "outputs": [],
      "source": [
        "# Create Embedding Matrix having 100 columns\n",
        "# Containing 100-dimensional GloVe word embeddings for all words in our corpus.\n",
        "\n",
        "embedding_matrix = zeros((vocab_length, 100))\n",
        "for word, index in word_tokenizer.word_index.items():\n",
        "    embedding_vector = embeddings_dictionary.get(word)\n",
        "    if embedding_vector is not None:\n",
        "        embedding_matrix[index] = embedding_vector"
      ]
    },
    {
      "cell_type": "code",
      "source": [
        "embedding_matrix.shape"
      ],
      "metadata": {
        "id": "fjwFEeCmiAPo",
        "colab": {
          "base_uri": "https://localhost:8080/"
        },
        "outputId": "9f6d8913-5d6a-49b8-a886-e3112477c9aa"
      },
      "execution_count": null,
      "outputs": [
        {
          "output_type": "execute_result",
          "data": {
            "text/plain": [
              "(92394, 100)"
            ]
          },
          "metadata": {},
          "execution_count": 33
        }
      ]
    },
    {
      "cell_type": "markdown",
      "source": [
        "# 3. Model Selection and Training:\n",
        "\n"
      ],
      "metadata": {
        "id": "OW-AbfS3jNy_"
      }
    },
    {
      "cell_type": "markdown",
      "metadata": {
        "id": "F_bNYrfoSIBj"
      },
      "source": [
        "## Simple Neural Network"
      ]
    },
    {
      "cell_type": "code",
      "execution_count": null,
      "metadata": {
        "id": "qf-U8d-WSFxk"
      },
      "outputs": [],
      "source": [
        "# Neural Network architecture\n",
        "\n",
        "snn_model = Sequential()\n",
        "embedding_layer = Embedding(vocab_length, 100, weights=[embedding_matrix], input_length=maxlen , trainable=False)\n",
        "\n",
        "snn_model.add(embedding_layer)\n",
        "\n",
        "snn_model.add(Flatten())\n",
        "snn_model.add(Dense(1, activation='sigmoid'))"
      ]
    },
    {
      "cell_type": "code",
      "source": [
        "snn_model.summary()"
      ],
      "metadata": {
        "colab": {
          "base_uri": "https://localhost:8080/"
        },
        "id": "g98karV-gcZd",
        "outputId": "a6d5d8f9-80cb-443c-ff45-6eb408f82a6d"
      },
      "execution_count": null,
      "outputs": [
        {
          "output_type": "stream",
          "name": "stdout",
          "text": [
            "Model: \"sequential\"\n",
            "_________________________________________________________________\n",
            " Layer (type)                Output Shape              Param #   \n",
            "=================================================================\n",
            " embedding (Embedding)       (None, 100, 100)          9239400   \n",
            "                                                                 \n",
            " flatten (Flatten)           (None, 10000)             0         \n",
            "                                                                 \n",
            " dense (Dense)               (None, 1)                 10001     \n",
            "                                                                 \n",
            "=================================================================\n",
            "Total params: 9249401 (35.28 MB)\n",
            "Trainable params: 10001 (39.07 KB)\n",
            "Non-trainable params: 9239400 (35.25 MB)\n",
            "_________________________________________________________________\n"
          ]
        }
      ]
    },
    {
      "cell_type": "code",
      "execution_count": null,
      "metadata": {
        "id": "JjUzsDS5SOrH",
        "colab": {
          "base_uri": "https://localhost:8080/"
        },
        "outputId": "a07e0961-c714-411e-fdb6-67f8c70d3bf8"
      },
      "outputs": [
        {
          "output_type": "stream",
          "name": "stdout",
          "text": [
            "Model: \"sequential\"\n",
            "_________________________________________________________________\n",
            " Layer (type)                Output Shape              Param #   \n",
            "=================================================================\n",
            " embedding (Embedding)       (None, 100, 100)          9239400   \n",
            "                                                                 \n",
            " flatten (Flatten)           (None, 10000)             0         \n",
            "                                                                 \n",
            " dense (Dense)               (None, 1)                 10001     \n",
            "                                                                 \n",
            "=================================================================\n",
            "Total params: 9249401 (35.28 MB)\n",
            "Trainable params: 10001 (39.07 KB)\n",
            "Non-trainable params: 9239400 (35.25 MB)\n",
            "_________________________________________________________________\n",
            "None\n"
          ]
        }
      ],
      "source": [
        "# Model compiling\n",
        "\n",
        "snn_model.compile(optimizer='adam', loss='binary_crossentropy', metrics=['acc'])\n",
        "\n",
        "print(snn_model.summary())"
      ]
    },
    {
      "cell_type": "code",
      "execution_count": null,
      "metadata": {
        "id": "Fbjq_xjXSVIw",
        "colab": {
          "base_uri": "https://localhost:8080/"
        },
        "outputId": "8c135b44-bb8b-48bd-fabd-b28477ccd0b1"
      },
      "outputs": [
        {
          "output_type": "stream",
          "name": "stdout",
          "text": [
            "Epoch 1/6\n",
            "250/250 [==============================] - 2s 6ms/step - loss: 0.5609 - acc: 0.7132 - val_loss: 0.5063 - val_acc: 0.7569\n",
            "Epoch 2/6\n",
            "250/250 [==============================] - 1s 5ms/step - loss: 0.4492 - acc: 0.7936 - val_loss: 0.4941 - val_acc: 0.7656\n",
            "Epoch 3/6\n",
            "250/250 [==============================] - 1s 5ms/step - loss: 0.4135 - acc: 0.8142 - val_loss: 0.5019 - val_acc: 0.7648\n",
            "Epoch 4/6\n",
            "250/250 [==============================] - 2s 8ms/step - loss: 0.3908 - acc: 0.8297 - val_loss: 0.5104 - val_acc: 0.7617\n",
            "Epoch 5/6\n",
            "250/250 [==============================] - 2s 6ms/step - loss: 0.3757 - acc: 0.8348 - val_loss: 0.5210 - val_acc: 0.7607\n",
            "Epoch 6/6\n",
            "250/250 [==============================] - 1s 6ms/step - loss: 0.3632 - acc: 0.8427 - val_loss: 0.5309 - val_acc: 0.7575\n"
          ]
        }
      ],
      "source": [
        "# Model training\n",
        "\n",
        "snn_model_history = snn_model.fit(X_train, y_train, batch_size=128, epochs=6, verbose=1, validation_split=0.2)"
      ]
    },
    {
      "cell_type": "code",
      "execution_count": null,
      "metadata": {
        "id": "bLiriTfNSYcc",
        "colab": {
          "base_uri": "https://localhost:8080/"
        },
        "outputId": "b2995657-90d4-4a93-c7a7-938c958d1b27"
      },
      "outputs": [
        {
          "output_type": "stream",
          "name": "stdout",
          "text": [
            "313/313 [==============================] - 1s 2ms/step - loss: 0.5574 - acc: 0.7485\n"
          ]
        }
      ],
      "source": [
        "# Predictions on the Test Set\n",
        "\n",
        "score = snn_model.evaluate(X_test, y_test, verbose=1)"
      ]
    },
    {
      "cell_type": "code",
      "execution_count": null,
      "metadata": {
        "id": "CeFtXQ9MSaaN",
        "colab": {
          "base_uri": "https://localhost:8080/"
        },
        "outputId": "f094b0a9-6733-411b-be67-dad63cdfd1ef"
      },
      "outputs": [
        {
          "output_type": "stream",
          "name": "stdout",
          "text": [
            "Test Score: 0.557395875453949\n",
            "Test Accuracy: 0.7484999895095825\n"
          ]
        }
      ],
      "source": [
        "# Model Performance\n",
        "\n",
        "print(\"Test Score:\", score[0])\n",
        "print(\"Test Accuracy:\", score[1])"
      ]
    },
    {
      "cell_type": "code",
      "source": [
        "x_test_flattened = X_test.flatten()\n",
        "for i in range(len(x_test_flattened)):\n",
        "  if x_test_flattened[i] > 0:\n",
        "    x_test_flattened[i] = 1\n",
        "  else:\n",
        "    x_test_flattened[i] = 0"
      ],
      "metadata": {
        "id": "fnE9gUzcDzMB"
      },
      "execution_count": null,
      "outputs": []
    },
    {
      "cell_type": "code",
      "source": [
        "import random\n",
        "\n",
        "# Get the length of the X_test list\n",
        "x_test_length = len(x_test_flattened)\n",
        "\n",
        "# Generate a random index between 0 and the length of the X_test list\n",
        "random_index = random.randint(0, x_test_length - 1)\n",
        "\n",
        "# Get the sample from the X_test list\n",
        "x_test_sample = x_test_flattened[random_index]\n",
        "\n",
        "# # Get the corresponding sample from the y_test list\n",
        "# y_test_sample = y_test[random_index]\n",
        "\n",
        "# Print the samples\n",
        "print(f\"Sample of X_test: {x_test_sample}\")\n",
        "# print(f\"Sample of y_test: {y_test_sample}\")"
      ],
      "metadata": {
        "colab": {
          "base_uri": "https://localhost:8080/"
        },
        "id": "riT6RFyTDS2l",
        "outputId": "e9fd27d7-03e9-4a50-cc0a-420f2b92a0a5"
      },
      "execution_count": null,
      "outputs": [
        {
          "output_type": "stream",
          "name": "stdout",
          "text": [
            "Sample of X_test: 1\n"
          ]
        }
      ]
    },
    {
      "cell_type": "code",
      "execution_count": null,
      "metadata": {
        "id": "r55HElqVSc5K",
        "colab": {
          "base_uri": "https://localhost:8080/",
          "height": 927
        },
        "outputId": "18b4b76c-f415-4221-c187-450f48d87940"
      },
      "outputs": [
        {
          "output_type": "display_data",
          "data": {
            "text/plain": [
              "<Figure size 640x480 with 1 Axes>"
            ],
            "image/png": "[encoded data removed]"
          },
          "metadata": {}
        },
        {
          "output_type": "display_data",
          "data": {
            "text/plain": [
              "<Figure size 640x480 with 1 Axes>"
            ],
            "image/png": "[encoded data removed]"
          },
          "metadata": {}
        }
      ],
      "source": [
        "# Model Performance Charts\n",
        "\n",
        "import matplotlib.pyplot as plt\n",
        "\n",
        "plt.plot(snn_model_history.history['acc'])\n",
        "plt.plot(snn_model_history.history['val_acc'])\n",
        "\n",
        "plt.title('model accuracy')\n",
        "plt.ylabel('accuracy')\n",
        "plt.xlabel('epoch')\n",
        "plt.legend(['train','test'], loc='upper left')\n",
        "plt.show()\n",
        "\n",
        "plt.plot(snn_model_history.history['loss'])\n",
        "plt.plot(snn_model_history.history['val_loss'])\n",
        "\n",
        "plt.title('model loss')\n",
        "plt.ylabel('loss')\n",
        "plt.xlabel('epoch')\n",
        "plt.legend(['train','test'], loc='upper left')\n",
        "plt.show()"
      ]
    },
    {
      "cell_type": "markdown",
      "metadata": {
        "id": "HMulFBC4SfAY"
      },
      "source": [
        "## Convolutional Neural Network"
      ]
    },
    {
      "cell_type": "code",
      "execution_count": null,
      "metadata": {
        "id": "CzNlGNGGUhVx"
      },
      "outputs": [],
      "source": [
        "from keras.layers import Conv1D"
      ]
    },
    {
      "cell_type": "code",
      "execution_count": null,
      "metadata": {
        "id": "kbVF6c4ASgUs"
      },
      "outputs": [],
      "source": [
        "\n",
        "# Neural Network architecture\n",
        "\n",
        "cnn_model = Sequential()\n",
        "\n",
        "embedding_layer = Embedding(vocab_length, 100, weights=[embedding_matrix], input_length=maxlen , trainable=False)\n",
        "cnn_model.add(embedding_layer)\n",
        "\n",
        "cnn_model.add(Conv1D(128, 5, activation='relu'))\n",
        "cnn_model.add(GlobalMaxPooling1D())\n",
        "cnn_model.add(Dense(1, activation='sigmoid'))"
      ]
    },
    {
      "cell_type": "code",
      "execution_count": null,
      "metadata": {
        "id": "XayF5sTqSlP_",
        "colab": {
          "base_uri": "https://localhost:8080/"
        },
        "outputId": "0ed7e24f-762c-4dae-be18-a636fe004d5c"
      },
      "outputs": [
        {
          "output_type": "stream",
          "name": "stdout",
          "text": [
            "Model: \"sequential_1\"\n",
            "_________________________________________________________________\n",
            " Layer (type)                Output Shape              Param #   \n",
            "=================================================================\n",
            " embedding_1 (Embedding)     (None, 100, 100)          9239400   \n",
            "                                                                 \n",
            " conv1d (Conv1D)             (None, 96, 128)           64128     \n",
            "                                                                 \n",
            " global_max_pooling1d (Glob  (None, 128)               0         \n",
            " alMaxPooling1D)                                                 \n",
            "                                                                 \n",
            " dense_1 (Dense)             (None, 1)                 129       \n",
            "                                                                 \n",
            "=================================================================\n",
            "Total params: 9303657 (35.49 MB)\n",
            "Trainable params: 64257 (251.00 KB)\n",
            "Non-trainable params: 9239400 (35.25 MB)\n",
            "_________________________________________________________________\n",
            "None\n"
          ]
        }
      ],
      "source": [
        "# Model compiling\n",
        "\n",
        "cnn_model.compile(optimizer='adam', loss='binary_crossentropy', metrics=['acc'])\n",
        "print(cnn_model.summary())"
      ]
    },
    {
      "cell_type": "code",
      "execution_count": null,
      "metadata": {
        "id": "AaF5Rc6GSnDY",
        "colab": {
          "base_uri": "https://localhost:8080/"
        },
        "outputId": "a37160b4-274b-4151-8b43-aae915cd336c"
      },
      "outputs": [
        {
          "output_type": "stream",
          "name": "stdout",
          "text": [
            "Epoch 1/6\n",
            "250/250 [==============================] - 25s 96ms/step - loss: 0.4692 - acc: 0.7765 - val_loss: 0.3822 - val_acc: 0.8324\n",
            "Epoch 2/6\n",
            "250/250 [==============================] - 20s 81ms/step - loss: 0.3389 - acc: 0.8561 - val_loss: 0.3508 - val_acc: 0.8465\n",
            "Epoch 3/6\n",
            "250/250 [==============================] - 22s 87ms/step - loss: 0.2843 - acc: 0.8870 - val_loss: 0.3380 - val_acc: 0.8516\n",
            "Epoch 4/6\n",
            "250/250 [==============================] - 20s 81ms/step - loss: 0.2382 - acc: 0.9119 - val_loss: 0.3340 - val_acc: 0.8540\n",
            "Epoch 5/6\n",
            "250/250 [==============================] - 22s 87ms/step - loss: 0.2002 - acc: 0.9317 - val_loss: 0.3317 - val_acc: 0.8558\n",
            "Epoch 6/6\n",
            "250/250 [==============================] - 20s 80ms/step - loss: 0.1626 - acc: 0.9532 - val_loss: 0.3352 - val_acc: 0.8559\n"
          ]
        }
      ],
      "source": [
        "# Model training\n",
        "\n",
        "cnn_model_history = cnn_model.fit(X_train, y_train, batch_size=128, epochs=6, verbose=1, validation_split=0.2)"
      ]
    },
    {
      "cell_type": "code",
      "execution_count": null,
      "metadata": {
        "id": "fTqK3hr6VNUi",
        "colab": {
          "base_uri": "https://localhost:8080/"
        },
        "outputId": "7098839c-638b-487e-9a6b-7c89674abcb3"
      },
      "outputs": [
        {
          "output_type": "stream",
          "name": "stdout",
          "text": [
            "313/313 [==============================] - 3s 9ms/step - loss: 0.3433 - acc: 0.8524\n"
          ]
        }
      ],
      "source": [
        "# Predictions on the Test Set\n",
        "\n",
        "score = cnn_model.evaluate(X_test, y_test, verbose=1)"
      ]
    },
    {
      "cell_type": "code",
      "execution_count": null,
      "metadata": {
        "id": "bQhafHPmSvpG",
        "colab": {
          "base_uri": "https://localhost:8080/"
        },
        "outputId": "e14deccb-9a02-47bb-9dbc-2b1c7591e19f"
      },
      "outputs": [
        {
          "output_type": "stream",
          "name": "stdout",
          "text": [
            "Test Score: 0.3433106541633606\n",
            "Test Accuracy: 0.852400004863739\n"
          ]
        }
      ],
      "source": [
        "# Model Performance\n",
        "\n",
        "print(\"Test Score:\", score[0])\n",
        "print(\"Test Accuracy:\", score[1])"
      ]
    },
    {
      "cell_type": "code",
      "execution_count": null,
      "metadata": {
        "id": "YLdZa9GNSyAy",
        "colab": {
          "base_uri": "https://localhost:8080/",
          "height": 927
        },
        "outputId": "0ae977c0-30e0-4c63-b5b9-39de12c32e72"
      },
      "outputs": [
        {
          "output_type": "display_data",
          "data": {
            "text/plain": [
              "<Figure size 640x480 with 1 Axes>"
            ],
            "image/png": "[encoded data removed]"
          },
          "metadata": {}
        },
        {
          "output_type": "display_data",
          "data": {
            "text/plain": [
              "<Figure size 640x480 with 1 Axes>"
            ],
            "image/png": "[encoded data removed]"
          },
          "metadata": {}
        }
      ],
      "source": [
        "# Model Performance Charts\n",
        "\n",
        "import matplotlib.pyplot as plt\n",
        "\n",
        "plt.plot(cnn_model_history.history['acc'])\n",
        "plt.plot(cnn_model_history.history['val_acc'])\n",
        "\n",
        "plt.title('model accuracy')\n",
        "plt.ylabel('accuracy')\n",
        "plt.xlabel('epoch')\n",
        "plt.legend(['train','test'], loc = 'upper left')\n",
        "plt.show()\n",
        "\n",
        "plt.plot(cnn_model_history.history['loss'])\n",
        "plt.plot(cnn_model_history.history['val_loss'])\n",
        "\n",
        "plt.title('model loss')\n",
        "plt.ylabel('loss')\n",
        "plt.xlabel('epoch')\n",
        "plt.legend(['train','test'], loc = 'upper left')\n",
        "plt.show()"
      ]
    },
    {
      "cell_type": "code",
      "source": [
        "# Saving the model as a h5 file for possible use later\n",
        "\n",
        "cnn_model.save(f\"./cnn_model_acc_{round(score[1], 3)}.h5\", save_format='h5')"
      ],
      "metadata": {
        "colab": {
          "base_uri": "https://localhost:8080/"
        },
        "id": "zOaaaSqKyFwo",
        "outputId": "c79130af-0b90-49b9-acbf-aa8568b4baba"
      },
      "execution_count": null,
      "outputs": [
        {
          "output_type": "stream",
          "name": "stderr",
          "text": [
            "/usr/local/lib/python3.10/dist-packages/keras/src/engine/training.py:3103: UserWarning: You are saving your model as an HDF5 file via `model.save()`. This file format is considered legacy. We recommend using instead the native Keras format, e.g. `model.save('my_model.keras')`.\n",
            "  saving_api.save_model(\n"
          ]
        }
      ]
    },
    {
      "cell_type": "markdown",
      "metadata": {
        "id": "2QTts_XPS1Wn"
      },
      "source": [
        "## Recurrent Neural Network (LSTM)"
      ]
    },
    {
      "cell_type": "code",
      "execution_count": null,
      "metadata": {
        "id": "1iLtWqoMVwU5"
      },
      "outputs": [],
      "source": [
        "from keras.layers import LSTM"
      ]
    },
    {
      "cell_type": "code",
      "execution_count": null,
      "metadata": {
        "id": "0ccqZ-8kS2el"
      },
      "outputs": [],
      "source": [
        "# Neural Network architecture\n",
        "\n",
        "lstm_model = Sequential()\n",
        "embedding_layer = Embedding(vocab_length, 100, weights=[embedding_matrix], input_length=maxlen , trainable=False)\n",
        "\n",
        "lstm_model.add(embedding_layer)\n",
        "lstm_model.add(LSTM(128))\n",
        "\n",
        "lstm_model.add(Dense(1, activation='sigmoid'))"
      ]
    },
    {
      "cell_type": "code",
      "execution_count": null,
      "metadata": {
        "id": "Zk00Ss9HS68g",
        "colab": {
          "base_uri": "https://localhost:8080/"
        },
        "outputId": "8b62279f-e238-4af2-90f5-14f25c22793f"
      },
      "outputs": [
        {
          "output_type": "stream",
          "name": "stdout",
          "text": [
            "Model: \"sequential_2\"\n",
            "_________________________________________________________________\n",
            " Layer (type)                Output Shape              Param #   \n",
            "=================================================================\n",
            " embedding_2 (Embedding)     (None, 100, 100)          9239400   \n",
            "                                                                 \n",
            " lstm (LSTM)                 (None, 128)               117248    \n",
            "                                                                 \n",
            " dense_2 (Dense)             (None, 1)                 129       \n",
            "                                                                 \n",
            "=================================================================\n",
            "Total params: 9356777 (35.69 MB)\n",
            "Trainable params: 117377 (458.50 KB)\n",
            "Non-trainable params: 9239400 (35.25 MB)\n",
            "_________________________________________________________________\n",
            "None\n"
          ]
        }
      ],
      "source": [
        "# Model compiling\n",
        "\n",
        "lstm_model.compile(optimizer='adam', loss='binary_crossentropy', metrics=['acc'])\n",
        "print(lstm_model.summary())"
      ]
    },
    {
      "cell_type": "code",
      "execution_count": null,
      "metadata": {
        "id": "QMhhaZUaS9jF",
        "colab": {
          "base_uri": "https://localhost:8080/"
        },
        "outputId": "831b044e-e841-44e2-ccfb-8a8fe5e09481"
      },
      "outputs": [
        {
          "output_type": "stream",
          "name": "stdout",
          "text": [
            "Epoch 1/6\n",
            "250/250 [==============================] - 71s 278ms/step - loss: 0.5233 - acc: 0.7353 - val_loss: 0.4214 - val_acc: 0.8140\n",
            "Epoch 2/6\n",
            "250/250 [==============================] - 69s 275ms/step - loss: 0.4115 - acc: 0.8174 - val_loss: 0.3842 - val_acc: 0.8414\n",
            "Epoch 3/6\n",
            "250/250 [==============================] - 69s 277ms/step - loss: 0.3716 - acc: 0.8386 - val_loss: 0.3605 - val_acc: 0.8518\n",
            "Epoch 4/6\n",
            "250/250 [==============================] - 71s 286ms/step - loss: 0.3458 - acc: 0.8516 - val_loss: 0.3967 - val_acc: 0.8346\n",
            "Epoch 5/6\n",
            "250/250 [==============================] - 73s 292ms/step - loss: 0.3303 - acc: 0.8611 - val_loss: 0.3700 - val_acc: 0.8281\n",
            "Epoch 6/6\n",
            "250/250 [==============================] - 73s 290ms/step - loss: 0.3099 - acc: 0.8706 - val_loss: 0.3507 - val_acc: 0.8558\n"
          ]
        }
      ],
      "source": [
        "# Model Training\n",
        "\n",
        "lstm_model_history = lstm_model.fit(X_train, y_train, batch_size=128, epochs=6, verbose=1, validation_split=0.2)"
      ]
    },
    {
      "cell_type": "code",
      "source": [
        "# Predictions on the Test Set\n",
        "\n",
        "score = lstm_model.evaluate(X_test, y_test, verbose=1)"
      ],
      "metadata": {
        "id": "w7il9EjzlAaR",
        "colab": {
          "base_uri": "https://localhost:8080/"
        },
        "outputId": "03dc3289-01a0-4d36-dce7-f632899aef55"
      },
      "execution_count": null,
      "outputs": [
        {
          "output_type": "stream",
          "name": "stdout",
          "text": [
            "313/313 [==============================] - 15s 48ms/step - loss: 0.3558 - acc: 0.8542\n"
          ]
        }
      ]
    },
    {
      "cell_type": "code",
      "execution_count": null,
      "metadata": {
        "id": "6j71n54zS9mc",
        "colab": {
          "base_uri": "https://localhost:8080/"
        },
        "outputId": "4f10e8b0-8779-42cf-97d2-d0b6e453869b"
      },
      "outputs": [
        {
          "output_type": "stream",
          "name": "stdout",
          "text": [
            "Test Score: 0.3557969629764557\n",
            "Test Accuracy: 0.854200005531311\n"
          ]
        }
      ],
      "source": [
        "# Model Performance\n",
        "\n",
        "print(\"Test Score:\", score[0])\n",
        "print(\"Test Accuracy:\", score[1])"
      ]
    },
    {
      "cell_type": "code",
      "execution_count": null,
      "metadata": {
        "id": "LiibO1EuS9qB",
        "colab": {
          "base_uri": "https://localhost:8080/",
          "height": 927
        },
        "outputId": "6ee25851-5eb1-4c73-fb93-1a08c00dee50"
      },
      "outputs": [
        {
          "output_type": "display_data",
          "data": {
            "text/plain": [
              "<Figure size 640x480 with 1 Axes>"
            ],
            "image/png": "[encoded data removed]"
          },
          "metadata": {}
        },
        {
          "output_type": "display_data",
          "data": {
            "text/plain": [
              "<Figure size 640x480 with 1 Axes>"
            ],
            "image/png": "[encoded data removed]"
          },
          "metadata": {}
        }
      ],
      "source": [
        "# Model Performance Charts\n",
        "\n",
        "import matplotlib.pyplot as plt\n",
        "\n",
        "plt.plot(lstm_model_history.history['acc'])\n",
        "plt.plot(lstm_model_history.history['val_acc'])\n",
        "\n",
        "plt.title('model accuracy')\n",
        "plt.ylabel('accuracy')\n",
        "plt.xlabel('epoch')\n",
        "plt.legend(['train','test'], loc='upper left')\n",
        "plt.show()\n",
        "\n",
        "plt.plot(lstm_model_history.history['loss'])\n",
        "plt.plot(lstm_model_history.history['val_loss'])\n",
        "\n",
        "plt.title('model loss')\n",
        "plt.ylabel('loss')\n",
        "plt.xlabel('epoch')\n",
        "plt.legend(['train','test'], loc='upper left')\n",
        "plt.show()"
      ]
    },
    {
      "cell_type": "code",
      "source": [
        "# Saving the model as a h5 file for possible use later\n",
        "\n",
        "lstm_model.save(f\"./c2_lstm_model_acc_{round(score[1], 3)}.h5\", save_format='h5')"
      ],
      "metadata": {
        "id": "YwXAHNsnnSdw"
      },
      "execution_count": null,
      "outputs": []
    },
    {
      "cell_type": "markdown",
      "metadata": {
        "id": "CF77MN1uTHbG"
      },
      "source": [
        "# Making Predictions on Live IMDb data"
      ]
    },
    {
      "cell_type": "code",
      "source": [
        "# lists files in working directory\n",
        "!ls"
      ],
      "metadata": {
        "id": "0i2Qws60ogQY",
        "colab": {
          "base_uri": "https://localhost:8080/"
        },
        "outputId": "3d346a70-ffee-4e67-d3db-f920665a22ec"
      },
      "execution_count": null,
      "outputs": [
        {
          "output_type": "stream",
          "name": "stdout",
          "text": [
            "c1_lstm_model_acc_0.865.h5\tc2_lstm_model_acc_0.863.h5  f2_IMDb_Unseen_Reviews.csv\n",
            "c2_IMDb_Unseen_Predictions.csv\tcnn_model_acc_0.851.h5\t    f3_glove.6B.100d.txt\n",
            "c2_lstm_model_acc_0.852.h5\tcnn_model_acc_0.852.h5\t    s1_IMDb_Unseen_Predictions.csv\n",
            "c2_lstm_model_acc_0.854.h5\tcnn_model_acc_0.853.h5\t    sentiment_analysis_model.ipynb\n",
            "c2_lstm_model_acc_0.857.h5\tf1_IMDB_Dataset.csv\n"
          ]
        }
      ]
    },
    {
      "cell_type": "code",
      "source": [
        "# Load previously trained LSTM Model\n",
        "\n",
        "from keras.models import load_model\n",
        "\n",
        "model_path ='./c1_lstm_model_acc_0.865.h5'\n",
        "pretrained_lstm_model = load_model(model_path)\n",
        "\n",
        "# summarize model.\n",
        "\n",
        "pretrained_lstm_model.summary()"
      ],
      "metadata": {
        "id": "4QV-OXuvtpLr",
        "colab": {
          "base_uri": "https://localhost:8080/"
        },
        "outputId": "993eecbd-5058-480e-d11a-0f645888b8c0"
      },
      "execution_count": null,
      "outputs": [
        {
          "output_type": "stream",
          "name": "stdout",
          "text": [
            "Model: \"sequential_2\"\n",
            "_________________________________________________________________\n",
            " Layer (type)                Output Shape              Param #   \n",
            "=================================================================\n",
            " embedding_2 (Embedding)     (None, 100, 100)          9239400   \n",
            "                                                                 \n",
            " lstm (LSTM)                 (None, 128)               117248    \n",
            "                                                                 \n",
            " dense_2 (Dense)             (None, 1)                 129       \n",
            "                                                                 \n",
            "=================================================================\n",
            "Total params: 9356777 (35.69 MB)\n",
            "Trainable params: 117377 (458.50 KB)\n",
            "Non-trainable params: 9239400 (35.25 MB)\n",
            "_________________________________________________________________\n"
          ]
        }
      ]
    },
    {
      "cell_type": "code",
      "source": [
        "# Load sample IMDb reviews csv, having ~6 movie reviews, along with their IMDb rating\n",
        "\n",
        "sample_reviews = pd.read_csv(\"f2_IMDb_Unseen_Reviews.csv\")\n",
        "\n",
        "sample_reviews.head(6)"
      ],
      "metadata": {
        "id": "qZiniS4-guUR",
        "colab": {
          "base_uri": "https://localhost:8080/",
          "height": 237
        },
        "outputId": "1ad1cd49-ef06-441c-8749-4616c2de79a0"
      },
      "execution_count": null,
      "outputs": [
        {
          "output_type": "execute_result",
          "data": {
            "text/plain": [
              "   Unnamed: 0       Movie                                        Review Text  \\\n",
              "0           0  Ex Machina  Intelligent Movie.\\nThis movie is obviously al...   \n",
              "1           1  Ex Machina  Extraordinary and thought-provoking.\\n'Ex mach...   \n",
              "2           2  Ex Machina  Poor story, only reasonable otherwise.\\nIf I h...   \n",
              "3           3  Ex Machina  Had Great Potential.\\nThis movie is one of the...   \n",
              "4           4    Eternals  Amazing visuals and philosophical concepts!\\n\\...   \n",
              "5           5    Eternals  Worst MCU film ever\\n\\nFollowing the events of...   \n",
              "\n",
              "   IMDb Rating  \n",
              "0            9  \n",
              "1           10  \n",
              "2            3  \n",
              "3            1  \n",
              "4           10  \n",
              "5            3  "
            ],
            "text/html": [
              "\n",
              "  <div id=\"df-8488be7c-aef0-40e2-8321-9d4048c84381\" class=\"colab-df-container\">\n",
              "    <div>\n",
              "<style scoped>\n",
              "    .dataframe tbody tr th:only-of-type {\n",
              "        vertical-align: middle;\n",
              "    }\n",
              "\n",
              "    .dataframe tbody tr th {\n",
              "        vertical-align: top;\n",
              "    }\n",
              "\n",
              "    .dataframe thead th {\n",
              "        text-align: right;\n",
              "    }\n",
              "</style>\n",
              "<table border=\"1\" class=\"dataframe\">\n",
              "  <thead>\n",
              "    <tr style=\"text-align: right;\">\n",
              "      <th></th>\n",
              "      <th>Unnamed: 0</th>\n",
              "      <th>Movie</th>\n",
              "      <th>Review Text</th>\n",
              "      <th>IMDb Rating</th>\n",
              "    </tr>\n",
              "  </thead>\n",
              "  <tbody>\n",
              "    <tr>\n",
              "      <th>0</th>\n",
              "      <td>0</td>\n",
              "      <td>Ex Machina</td>\n",
              "      <td>Intelligent Movie.\\nThis movie is obviously al...</td>\n",
              "      <td>9</td>\n",
              "    </tr>\n",
              "    <tr>\n",
              "      <th>1</th>\n",
              "      <td>1</td>\n",
              "      <td>Ex Machina</td>\n",
              "      <td>Extraordinary and thought-provoking.\\n'Ex mach...</td>\n",
              "      <td>10</td>\n",
              "    </tr>\n",
              "    <tr>\n",
              "      <th>2</th>\n",
              "      <td>2</td>\n",
              "      <td>Ex Machina</td>\n",
              "      <td>Poor story, only reasonable otherwise.\\nIf I h...</td>\n",
              "      <td>3</td>\n",
              "    </tr>\n",
              "    <tr>\n",
              "      <th>3</th>\n",
              "      <td>3</td>\n",
              "      <td>Ex Machina</td>\n",
              "      <td>Had Great Potential.\\nThis movie is one of the...</td>\n",
              "      <td>1</td>\n",
              "    </tr>\n",
              "    <tr>\n",
              "      <th>4</th>\n",
              "      <td>4</td>\n",
              "      <td>Eternals</td>\n",
              "      <td>Amazing visuals and philosophical concepts!\\n\\...</td>\n",
              "      <td>10</td>\n",
              "    </tr>\n",
              "    <tr>\n",
              "      <th>5</th>\n",
              "      <td>5</td>\n",
              "      <td>Eternals</td>\n",
              "      <td>Worst MCU film ever\\n\\nFollowing the events of...</td>\n",
              "      <td>3</td>\n",
              "    </tr>\n",
              "  </tbody>\n",
              "</table>\n",
              "</div>\n",
              "    <div class=\"colab-df-buttons\">\n",
              "\n",
              "  <div class=\"colab-df-container\">\n",
              "    <button class=\"colab-df-convert\" onclick=\"convertToInteractive('df-8488be7c-aef0-40e2-8321-9d4048c84381')\"\n",
              "            title=\"Convert this dataframe to an interactive table.\"\n",
              "            style=\"display:none;\">\n",
              "\n",
              "  <svg xmlns=\"http://www.w3.org/2000/svg\" height=\"24px\" viewBox=\"0 -960 960 960\">\n",
              "    <path d=\"M120-120v-720h720v720H120Zm60-500h600v-160H180v160Zm220 220h160v-160H400v160Zm0 220h160v-160H400v160ZM180-400h160v-160H180v160Zm440 0h160v-160H620v160ZM180-180h160v-160H180v160Zm440 0h160v-160H620v160Z\"/>\n",
              "  </svg>\n",
              "    </button>\n",
              "\n",
              "  <style>\n",
              "    .colab-df-container {\n",
              "      display:flex;\n",
              "      gap: 12px;\n",
              "    }\n",
              "\n",
              "    .colab-df-convert {\n",
              "      background-color: #E8F0FE;\n",
              "      border: none;\n",
              "      border-radius: 50%;\n",
              "      cursor: pointer;\n",
              "      display: none;\n",
              "      fill: #1967D2;\n",
              "      height: 32px;\n",
              "      padding: 0 0 0 0;\n",
              "      width: 32px;\n",
              "    }\n",
              "\n",
              "    .colab-df-convert:hover {\n",
              "      background-color: #E2EBFA;\n",
              "      box-shadow: 0px 1px 2px rgba(60, 64, 67, 0.3), 0px 1px 3px 1px rgba(60, 64, 67, 0.15);\n",
              "      fill: #174EA6;\n",
              "    }\n",
              "\n",
              "    .colab-df-buttons div {\n",
              "      margin-bottom: 4px;\n",
              "    }\n",
              "\n",
              "    [theme=dark] .colab-df-convert {\n",
              "      background-color: #3B4455;\n",
              "      fill: #D2E3FC;\n",
              "    }\n",
              "\n",
              "    [theme=dark] .colab-df-convert:hover {\n",
              "      background-color: #434B5C;\n",
              "      box-shadow: 0px 1px 3px 1px rgba(0, 0, 0, 0.15);\n",
              "      filter: drop-shadow(0px 1px 2px rgba(0, 0, 0, 0.3));\n",
              "      fill: #FFFFFF;\n",
              "    }\n",
              "  </style>\n",
              "\n",
              "    <script>\n",
              "      const buttonEl =\n",
              "        document.querySelector('#df-8488be7c-aef0-40e2-8321-9d4048c84381 button.colab-df-convert');\n",
              "      buttonEl.style.display =\n",
              "        google.colab.kernel.accessAllowed ? 'block' : 'none';\n",
              "\n",
              "      async function convertToInteractive(key) {\n",
              "        const element = document.querySelector('#df-8488be7c-aef0-40e2-8321-9d4048c84381');\n",
              "        const dataTable =\n",
              "          await google.colab.kernel.invokeFunction('convertToInteractive',\n",
              "                                                    [key], {});\n",
              "        if (!dataTable) return;\n",
              "\n",
              "        const docLinkHtml = 'Like what you see? Visit the ' +\n",
              "          '<a target=\"_blank\" href=https://colab.research.google.com/notebooks/data_table.ipynb>data table notebook</a>'\n",
              "          + ' to learn more about interactive tables.';\n",
              "        element.innerHTML = '';\n",
              "        dataTable['output_type'] = 'display_data';\n",
              "        await google.colab.output.renderOutput(dataTable, element);\n",
              "        const docLink = document.createElement('div');\n",
              "        docLink.innerHTML = docLinkHtml;\n",
              "        element.appendChild(docLink);\n",
              "      }\n",
              "    </script>\n",
              "  </div>\n",
              "\n",
              "\n",
              "<div id=\"df-700abef5-a5f9-4eba-a62c-91e263364821\">\n",
              "  <button class=\"colab-df-quickchart\" onclick=\"quickchart('df-700abef5-a5f9-4eba-a62c-91e263364821')\"\n",
              "            title=\"Suggest charts\"\n",
              "            style=\"display:none;\">\n",
              "\n",
              "<svg xmlns=\"http://www.w3.org/2000/svg\" height=\"24px\"viewBox=\"0 0 24 24\"\n",
              "     width=\"24px\">\n",
              "    <g>\n",
              "        <path d=\"M19 3H5c-1.1 0-2 .9-2 2v14c0 1.1.9 2 2 2h14c1.1 0 2-.9 2-2V5c0-1.1-.9-2-2-2zM9 17H7v-7h2v7zm4 0h-2V7h2v10zm4 0h-2v-4h2v4z\"/>\n",
              "    </g>\n",
              "</svg>\n",
              "  </button>\n",
              "\n",
              "<style>\n",
              "  .colab-df-quickchart {\n",
              "      --bg-color: #E8F0FE;\n",
              "      --fill-color: #1967D2;\n",
              "      --hover-bg-color: #E2EBFA;\n",
              "      --hover-fill-color: #174EA6;\n",
              "      --disabled-fill-color: #AAA;\n",
              "      --disabled-bg-color: #DDD;\n",
              "  }\n",
              "\n",
              "  [theme=dark] .colab-df-quickchart {\n",
              "      --bg-color: #3B4455;\n",
              "      --fill-color: #D2E3FC;\n",
              "      --hover-bg-color: #434B5C;\n",
              "      --hover-fill-color: #FFFFFF;\n",
              "      --disabled-bg-color: #3B4455;\n",
              "      --disabled-fill-color: #666;\n",
              "  }\n",
              "\n",
              "  .colab-df-quickchart {\n",
              "    background-color: var(--bg-color);\n",
              "    border: none;\n",
              "    border-radius: 50%;\n",
              "    cursor: pointer;\n",
              "    display: none;\n",
              "    fill: var(--fill-color);\n",
              "    height: 32px;\n",
              "    padding: 0;\n",
              "    width: 32px;\n",
              "  }\n",
              "\n",
              "  .colab-df-quickchart:hover {\n",
              "    background-color: var(--hover-bg-color);\n",
              "    box-shadow: 0 1px 2px rgba(60, 64, 67, 0.3), 0 1px 3px 1px rgba(60, 64, 67, 0.15);\n",
              "    fill: var(--button-hover-fill-color);\n",
              "  }\n",
              "\n",
              "  .colab-df-quickchart-complete:disabled,\n",
              "  .colab-df-quickchart-complete:disabled:hover {\n",
              "    background-color: var(--disabled-bg-color);\n",
              "    fill: var(--disabled-fill-color);\n",
              "    box-shadow: none;\n",
              "  }\n",
              "\n",
              "  .colab-df-spinner {\n",
              "    border: 2px solid var(--fill-color);\n",
              "    border-color: transparent;\n",
              "    border-bottom-color: var(--fill-color);\n",
              "    animation:\n",
              "      spin 1s steps(1) infinite;\n",
              "  }\n",
              "\n",
              "  @keyframes spin {\n",
              "    0% {\n",
              "      border-color: transparent;\n",
              "      border-bottom-color: var(--fill-color);\n",
              "      border-left-color: var(--fill-color);\n",
              "    }\n",
              "    20% {\n",
              "      border-color: transparent;\n",
              "      border-left-color: var(--fill-color);\n",
              "      border-top-color: var(--fill-color);\n",
              "    }\n",
              "    30% {\n",
              "      border-color: transparent;\n",
              "      border-left-color: var(--fill-color);\n",
              "      border-top-color: var(--fill-color);\n",
              "      border-right-color: var(--fill-color);\n",
              "    }\n",
              "    40% {\n",
              "      border-color: transparent;\n",
              "      border-right-color: var(--fill-color);\n",
              "      border-top-color: var(--fill-color);\n",
              "    }\n",
              "    60% {\n",
              "      border-color: transparent;\n",
              "      border-right-color: var(--fill-color);\n",
              "    }\n",
              "    80% {\n",
              "      border-color: transparent;\n",
              "      border-right-color: var(--fill-color);\n",
              "      border-bottom-color: var(--fill-color);\n",
              "    }\n",
              "    90% {\n",
              "      border-color: transparent;\n",
              "      border-bottom-color: var(--fill-color);\n",
              "    }\n",
              "  }\n",
              "</style>\n",
              "\n",
              "  <script>\n",
              "    async function quickchart(key) {\n",
              "      const quickchartButtonEl =\n",
              "        document.querySelector('#' + key + ' button');\n",
              "      quickchartButtonEl.disabled = true;  // To prevent multiple clicks.\n",
              "      quickchartButtonEl.classList.add('colab-df-spinner');\n",
              "      try {\n",
              "        const charts = await google.colab.kernel.invokeFunction(\n",
              "            'suggestCharts', [key], {});\n",
              "      } catch (error) {\n",
              "        console.error('Error during call to suggestCharts:', error);\n",
              "      }\n",
              "      quickchartButtonEl.classList.remove('colab-df-spinner');\n",
              "      quickchartButtonEl.classList.add('colab-df-quickchart-complete');\n",
              "    }\n",
              "    (() => {\n",
              "      let quickchartButtonEl =\n",
              "        document.querySelector('#df-700abef5-a5f9-4eba-a62c-91e263364821 button');\n",
              "      quickchartButtonEl.style.display =\n",
              "        google.colab.kernel.accessAllowed ? 'block' : 'none';\n",
              "    })();\n",
              "  </script>\n",
              "</div>\n",
              "\n",
              "    </div>\n",
              "  </div>\n"
            ],
            "application/vnd.google.colaboratory.intrinsic+json": {
              "type": "dataframe",
              "variable_name": "sample_reviews",
              "summary": "{\n  \"name\": \"sample_reviews\",\n  \"rows\": 6,\n  \"fields\": [\n    {\n      \"column\": \"Unnamed: 0\",\n      \"properties\": {\n        \"dtype\": \"number\",\n        \"std\": 1,\n        \"min\": 0,\n        \"max\": 5,\n        \"num_unique_values\": 6,\n        \"samples\": [\n          0,\n          1,\n          5\n        ],\n        \"semantic_type\": \"\",\n        \"description\": \"\"\n      }\n    },\n    {\n      \"column\": \"Movie\",\n      \"properties\": {\n        \"dtype\": \"category\",\n        \"num_unique_values\": 2,\n        \"samples\": [\n          \"Eternals\",\n          \"Ex Machina\"\n        ],\n        \"semantic_type\": \"\",\n        \"description\": \"\"\n      }\n    },\n    {\n      \"column\": \"Review Text\",\n      \"properties\": {\n        \"dtype\": \"string\",\n        \"num_unique_values\": 6,\n        \"samples\": [\n          \"Intelligent Movie.\\nThis movie is obviously allegorical, a fascinating tale about AI, but it is mainly about manipulation and power. It isn't for those wanting action or spectacular CGI, the movie is aimed at people who like to think, rather than passively wait to be entertained. There are themes here not only about AI, but also about surveillance, with excellent points about how data about us is collected by phone companies, search engine companies, commercial operating systems makers and so on. The plot seems simple but isn't, it's extremely clever, with the protagonist playing games, trying to stay one step ahead of one another. This is a movie with perfectly consistent internal logic that plays out perfectly. Don't go in expecting too much, however, as I can see most people will not be satisfied by this movie, but for me, it does what it sets out to do brilliantly. Therefore I give at least 9/10. And most recent movies have been getting 5/10 from me. This movie succeeds where another recent movie about AI, Transcendence, I think it is called, failed (but it was an interesting failure). A third movie about AI, a Spanish movie called Eva, was also brilliant. Eva was more moving and this movie more philosophical. But both movies were perfect in their different ways. The AI's name in this movie, Ava, seems to be a nod to the title of the Spanish movie. As an aside, it's nice that no \\\"stars\\\" appeared in \\\"Ex Machina\\\" and \\\"Eva\\\", the casting was great. Of course there are several aspects of this movie that are unrealistic and often absurd. But because this is an allegorical movie, these are acceptable, because the movie is making points, rather than striving for realism. It's more of a fairytale than accurate portrayal.\",\n          \"Extraordinary and thought-provoking.\\n'Ex machina' is surprisingly dense, more so than other titles Alex Garland has written, perhaps excepting only 'Annihilation.' The simple concept is given a definite narrative, but that narrative pointedly explores the very nature of thought, and perception, and further broaching the nature and ramifications of morality. This is a psychological thriller, and in fundamental construction and in minute rendering alike, it is more intense than any other feature in the genre that I can name offhand, so much so as to almost classify as horror. The movie emphasizes and plays on dire uncertainty of intent, motivation, and reality all the way through to the climax, and even then leaves us with a somewhat ambiguous ending. And from ordinary beginning to captivating ending, at every point 'Ex machina' is absolutely marvelous.\\n\\nOf any performance I've seen from Oscar Isaac, none have been nearly so forceful as his portrayal of Nathan, exhibiting outstanding nuance and sharp personality in the realization of a man exceptionally intelligent, and exceptionally cruel and conniving. I'm not especially familiar with Domhnall Gleeson, but the Irish actor demonstrates admirable range and poise readily matching the same traits that are more immediately notable in his costars. And with that said - certainly not to count out anyone else involved - Alicia Vikander is phenomenal as Ava, showing a careful exactness to every motion and expression befitting the character, and impressing with her skills in the most subtle of ways.\\n\\nI love the score composed between Ben Salisbury and Geoff Barrow, lending to the pensive unease about the film and building to a great crescendo at the precise appropriate moments. The sound design is exquisite - soft and unobtrusive, and with those qualities denoting both the meticulous craft of the feature, and the highly advanced status of Ava. So it is, too, with the special effects; to read a little bit of the production history informs of the substantial effort made to ensure every element of Nathan's creation was visualized with the utmost possibility of realism. And I think that endeavor paid off handsomely.\\n\\nThe characters as written are wonderfully complex, and the dialogue deceptively so. Garland's scene writing is impeccable and deeply engrossing, to say nothing of the overall narrative that delves into such heavy subject matter. Even being aware of the acclaim the feature had garnered since its release, I wasn't wholly sure what to expect as I sat to watch. What I got far exceeded anything I had imagined, mostly stepping away significantly from the common story ideas that populate most sci-fi films about artificial intelligence. Garland's screenplay analyzes consciousness with depth, completeness, and potency that I wouldn't have anticipated from a genre picture, and the result is so terrifically engaging as to be exhilarating. Factor in sound performances and excellent music, and 'Ex machina' is a firmly first-rate slice of science fiction that I call a must-see.\"\n        ],\n        \"semantic_type\": \"\",\n        \"description\": \"\"\n      }\n    },\n    {\n      \"column\": \"IMDb Rating\",\n      \"properties\": {\n        \"dtype\": \"number\",\n        \"std\": 4,\n        \"min\": 1,\n        \"max\": 10,\n        \"num_unique_values\": 4,\n        \"samples\": [\n          10,\n          1\n        ],\n        \"semantic_type\": \"\",\n        \"description\": \"\"\n      }\n    }\n  ]\n}"
            }
          },
          "metadata": {},
          "execution_count": 61
        }
      ]
    },
    {
      "cell_type": "code",
      "source": [
        "# Preprocess review text with earlier defined preprocess_text function\n",
        "\n",
        "unseen_reviews = sample_reviews['Review Text']\n",
        "\n",
        "unseen_processed = []\n",
        "for review in unseen_reviews:\n",
        "  review = preprocess_text(review)\n",
        "  unseen_processed.append(review)"
      ],
      "metadata": {
        "id": "aiXGG5k9VLVv"
      },
      "execution_count": null,
      "outputs": []
    },
    {
      "cell_type": "code",
      "source": [
        "# Tokenising instance with earlier trained tokeniser\n",
        "unseen_tokenized = word_tokenizer.texts_to_sequences(unseen_processed)\n",
        "\n",
        "# Pooling instance to have maxlength of 100 tokens\n",
        "unseen_padded = pad_sequences(unseen_tokenized, padding='post', maxlen=maxlen)"
      ],
      "metadata": {
        "id": "A8Ln84UfVZhz"
      },
      "execution_count": null,
      "outputs": []
    },
    {
      "cell_type": "code",
      "source": [
        "# Passing tokenised instance to the LSTM model for predictions\n",
        "unseen_sentiments = pretrained_lstm_model.predict(unseen_padded)\n",
        "\n",
        "unseen_sentiments"
      ],
      "metadata": {
        "id": "4bh5LsCZhy7r",
        "colab": {
          "base_uri": "https://localhost:8080/"
        },
        "outputId": "cec49f84-d365-4b49-cae5-1979a4602d9d"
      },
      "execution_count": null,
      "outputs": [
        {
          "output_type": "stream",
          "name": "stdout",
          "text": [
            "1/1 [==============================] - 0s 453ms/step\n"
          ]
        },
        {
          "output_type": "execute_result",
          "data": {
            "text/plain": [
              "array([[0.8113427 ],\n",
              "       [0.9905725 ],\n",
              "       [0.27007455],\n",
              "       [0.29110172],\n",
              "       [0.9166927 ],\n",
              "       [0.00816861]], dtype=float32)"
            ]
          },
          "metadata": {},
          "execution_count": 64
        }
      ]
    },
    {
      "cell_type": "code",
      "source": [
        "# Writing model output file back to Google Drive\n",
        "\n",
        "sample_reviews['Predicted Sentiments'] = np.round(unseen_sentiments*10,1)\n",
        "\n",
        "df_prediction_sentiments = pd.DataFrame(sample_reviews['Predicted Sentiments'], columns = ['Predicted Sentiments'])\n",
        "df_movie                 = pd.DataFrame(sample_reviews['Movie'], columns = ['Movie'])\n",
        "df_review_text           = pd.DataFrame(sample_reviews['Review Text'], columns = ['Review Text'])\n",
        "df_imdb_rating           = pd.DataFrame(sample_reviews['IMDb Rating'], columns = ['IMDb Rating'])\n",
        "\n",
        "\n",
        "dfx=pd.concat([df_movie, df_review_text, df_imdb_rating, df_prediction_sentiments], axis=1)\n",
        "\n",
        "dfx.to_csv(\"./c2_IMDb_Unseen_Predictions.csv\", sep=',', encoding='UTF-8')\n",
        "\n",
        "dfx.head(6)"
      ],
      "metadata": {
        "id": "b6W2OOeupUX8",
        "colab": {
          "base_uri": "https://localhost:8080/",
          "height": 237
        },
        "outputId": "b7af2603-55e4-45c1-86cb-47d3b7d98bc5"
      },
      "execution_count": null,
      "outputs": [
        {
          "output_type": "execute_result",
          "data": {
            "text/plain": [
              "        Movie                                        Review Text  IMDb Rating  \\\n",
              "0  Ex Machina  Intelligent Movie.\\nThis movie is obviously al...            9   \n",
              "1  Ex Machina  Extraordinary and thought-provoking.\\n'Ex mach...           10   \n",
              "2  Ex Machina  Poor story, only reasonable otherwise.\\nIf I h...            3   \n",
              "3  Ex Machina  Had Great Potential.\\nThis movie is one of the...            1   \n",
              "4    Eternals  Amazing visuals and philosophical concepts!\\n\\...           10   \n",
              "5    Eternals  Worst MCU film ever\\n\\nFollowing the events of...            3   \n",
              "\n",
              "   Predicted Sentiments  \n",
              "0                   8.1  \n",
              "1                   9.9  \n",
              "2                   2.7  \n",
              "3                   2.9  \n",
              "4                   9.2  \n",
              "5                   0.1  "
            ],
            "text/html": [
              "\n",
              "  <div id=\"df-0358f125-74d3-47f1-9571-8c086a06ecbc\" class=\"colab-df-container\">\n",
              "    <div>\n",
              "<style scoped>\n",
              "    .dataframe tbody tr th:only-of-type {\n",
              "        vertical-align: middle;\n",
              "    }\n",
              "\n",
              "    .dataframe tbody tr th {\n",
              "        vertical-align: top;\n",
              "    }\n",
              "\n",
              "    .dataframe thead th {\n",
              "        text-align: right;\n",
              "    }\n",
              "</style>\n",
              "<table border=\"1\" class=\"dataframe\">\n",
              "  <thead>\n",
              "    <tr style=\"text-align: right;\">\n",
              "      <th></th>\n",
              "      <th>Movie</th>\n",
              "      <th>Review Text</th>\n",
              "      <th>IMDb Rating</th>\n",
              "      <th>Predicted Sentiments</th>\n",
              "    </tr>\n",
              "  </thead>\n",
              "  <tbody>\n",
              "    <tr>\n",
              "      <th>0</th>\n",
              "      <td>Ex Machina</td>\n",
              "      <td>Intelligent Movie.\\nThis movie is obviously al...</td>\n",
              "      <td>9</td>\n",
              "      <td>8.1</td>\n",
              "    </tr>\n",
              "    <tr>\n",
              "      <th>1</th>\n",
              "      <td>Ex Machina</td>\n",
              "      <td>Extraordinary and thought-provoking.\\n'Ex mach...</td>\n",
              "      <td>10</td>\n",
              "      <td>9.9</td>\n",
              "    </tr>\n",
              "    <tr>\n",
              "      <th>2</th>\n",
              "      <td>Ex Machina</td>\n",
              "      <td>Poor story, only reasonable otherwise.\\nIf I h...</td>\n",
              "      <td>3</td>\n",
              "      <td>2.7</td>\n",
              "    </tr>\n",
              "    <tr>\n",
              "      <th>3</th>\n",
              "      <td>Ex Machina</td>\n",
              "      <td>Had Great Potential.\\nThis movie is one of the...</td>\n",
              "      <td>1</td>\n",
              "      <td>2.9</td>\n",
              "    </tr>\n",
              "    <tr>\n",
              "      <th>4</th>\n",
              "      <td>Eternals</td>\n",
              "      <td>Amazing visuals and philosophical concepts!\\n\\...</td>\n",
              "      <td>10</td>\n",
              "      <td>9.2</td>\n",
              "    </tr>\n",
              "    <tr>\n",
              "      <th>5</th>\n",
              "      <td>Eternals</td>\n",
              "      <td>Worst MCU film ever\\n\\nFollowing the events of...</td>\n",
              "      <td>3</td>\n",
              "      <td>0.1</td>\n",
              "    </tr>\n",
              "  </tbody>\n",
              "</table>\n",
              "</div>\n",
              "    <div class=\"colab-df-buttons\">\n",
              "\n",
              "  <div class=\"colab-df-container\">\n",
              "    <button class=\"colab-df-convert\" onclick=\"convertToInteractive('df-0358f125-74d3-47f1-9571-8c086a06ecbc')\"\n",
              "            title=\"Convert this dataframe to an interactive table.\"\n",
              "            style=\"display:none;\">\n",
              "\n",
              "  <svg xmlns=\"http://www.w3.org/2000/svg\" height=\"24px\" viewBox=\"0 -960 960 960\">\n",
              "    <path d=\"M120-120v-720h720v720H120Zm60-500h600v-160H180v160Zm220 220h160v-160H400v160Zm0 220h160v-160H400v160ZM180-400h160v-160H180v160Zm440 0h160v-160H620v160ZM180-180h160v-160H180v160Zm440 0h160v-160H620v160Z\"/>\n",
              "  </svg>\n",
              "    </button>\n",
              "\n",
              "  <style>\n",
              "    .colab-df-container {\n",
              "      display:flex;\n",
              "      gap: 12px;\n",
              "    }\n",
              "\n",
              "    .colab-df-convert {\n",
              "      background-color: #E8F0FE;\n",
              "      border: none;\n",
              "      border-radius: 50%;\n",
              "      cursor: pointer;\n",
              "      display: none;\n",
              "      fill: #1967D2;\n",
              "      height: 32px;\n",
              "      padding: 0 0 0 0;\n",
              "      width: 32px;\n",
              "    }\n",
              "\n",
              "    .colab-df-convert:hover {\n",
              "      background-color: #E2EBFA;\n",
              "      box-shadow: 0px 1px 2px rgba(60, 64, 67, 0.3), 0px 1px 3px 1px rgba(60, 64, 67, 0.15);\n",
              "      fill: #174EA6;\n",
              "    }\n",
              "\n",
              "    .colab-df-buttons div {\n",
              "      margin-bottom: 4px;\n",
              "    }\n",
              "\n",
              "    [theme=dark] .colab-df-convert {\n",
              "      background-color: #3B4455;\n",
              "      fill: #D2E3FC;\n",
              "    }\n",
              "\n",
              "    [theme=dark] .colab-df-convert:hover {\n",
              "      background-color: #434B5C;\n",
              "      box-shadow: 0px 1px 3px 1px rgba(0, 0, 0, 0.15);\n",
              "      filter: drop-shadow(0px 1px 2px rgba(0, 0, 0, 0.3));\n",
              "      fill: #FFFFFF;\n",
              "    }\n",
              "  </style>\n",
              "\n",
              "    <script>\n",
              "      const buttonEl =\n",
              "        document.querySelector('#df-0358f125-74d3-47f1-9571-8c086a06ecbc button.colab-df-convert');\n",
              "      buttonEl.style.display =\n",
              "        google.colab.kernel.accessAllowed ? 'block' : 'none';\n",
              "\n",
              "      async function convertToInteractive(key) {\n",
              "        const element = document.querySelector('#df-0358f125-74d3-47f1-9571-8c086a06ecbc');\n",
              "        const dataTable =\n",
              "          await google.colab.kernel.invokeFunction('convertToInteractive',\n",
              "                                                    [key], {});\n",
              "        if (!dataTable) return;\n",
              "\n",
              "        const docLinkHtml = 'Like what you see? Visit the ' +\n",
              "          '<a target=\"_blank\" href=https://colab.research.google.com/notebooks/data_table.ipynb>data table notebook</a>'\n",
              "          + ' to learn more about interactive tables.';\n",
              "        element.innerHTML = '';\n",
              "        dataTable['output_type'] = 'display_data';\n",
              "        await google.colab.output.renderOutput(dataTable, element);\n",
              "        const docLink = document.createElement('div');\n",
              "        docLink.innerHTML = docLinkHtml;\n",
              "        element.appendChild(docLink);\n",
              "      }\n",
              "    </script>\n",
              "  </div>\n",
              "\n",
              "\n",
              "<div id=\"df-69045402-25dc-4bc8-aa3c-1681702dba0c\">\n",
              "  <button class=\"colab-df-quickchart\" onclick=\"quickchart('df-69045402-25dc-4bc8-aa3c-1681702dba0c')\"\n",
              "            title=\"Suggest charts\"\n",
              "            style=\"display:none;\">\n",
              "\n",
              "<svg xmlns=\"http://www.w3.org/2000/svg\" height=\"24px\"viewBox=\"0 0 24 24\"\n",
              "     width=\"24px\">\n",
              "    <g>\n",
              "        <path d=\"M19 3H5c-1.1 0-2 .9-2 2v14c0 1.1.9 2 2 2h14c1.1 0 2-.9 2-2V5c0-1.1-.9-2-2-2zM9 17H7v-7h2v7zm4 0h-2V7h2v10zm4 0h-2v-4h2v4z\"/>\n",
              "    </g>\n",
              "</svg>\n",
              "  </button>\n",
              "\n",
              "<style>\n",
              "  .colab-df-quickchart {\n",
              "      --bg-color: #E8F0FE;\n",
              "      --fill-color: #1967D2;\n",
              "      --hover-bg-color: #E2EBFA;\n",
              "      --hover-fill-color: #174EA6;\n",
              "      --disabled-fill-color: #AAA;\n",
              "      --disabled-bg-color: #DDD;\n",
              "  }\n",
              "\n",
              "  [theme=dark] .colab-df-quickchart {\n",
              "      --bg-color: #3B4455;\n",
              "      --fill-color: #D2E3FC;\n",
              "      --hover-bg-color: #434B5C;\n",
              "      --hover-fill-color: #FFFFFF;\n",
              "      --disabled-bg-color: #3B4455;\n",
              "      --disabled-fill-color: #666;\n",
              "  }\n",
              "\n",
              "  .colab-df-quickchart {\n",
              "    background-color: var(--bg-color);\n",
              "    border: none;\n",
              "    border-radius: 50%;\n",
              "    cursor: pointer;\n",
              "    display: none;\n",
              "    fill: var(--fill-color);\n",
              "    height: 32px;\n",
              "    padding: 0;\n",
              "    width: 32px;\n",
              "  }\n",
              "\n",
              "  .colab-df-quickchart:hover {\n",
              "    background-color: var(--hover-bg-color);\n",
              "    box-shadow: 0 1px 2px rgba(60, 64, 67, 0.3), 0 1px 3px 1px rgba(60, 64, 67, 0.15);\n",
              "    fill: var(--button-hover-fill-color);\n",
              "  }\n",
              "\n",
              "  .colab-df-quickchart-complete:disabled,\n",
              "  .colab-df-quickchart-complete:disabled:hover {\n",
              "    background-color: var(--disabled-bg-color);\n",
              "    fill: var(--disabled-fill-color);\n",
              "    box-shadow: none;\n",
              "  }\n",
              "\n",
              "  .colab-df-spinner {\n",
              "    border: 2px solid var(--fill-color);\n",
              "    border-color: transparent;\n",
              "    border-bottom-color: var(--fill-color);\n",
              "    animation:\n",
              "      spin 1s steps(1) infinite;\n",
              "  }\n",
              "\n",
              "  @keyframes spin {\n",
              "    0% {\n",
              "      border-color: transparent;\n",
              "      border-bottom-color: var(--fill-color);\n",
              "      border-left-color: var(--fill-color);\n",
              "    }\n",
              "    20% {\n",
              "      border-color: transparent;\n",
              "      border-left-color: var(--fill-color);\n",
              "      border-top-color: var(--fill-color);\n",
              "    }\n",
              "    30% {\n",
              "      border-color: transparent;\n",
              "      border-left-color: var(--fill-color);\n",
              "      border-top-color: var(--fill-color);\n",
              "      border-right-color: var(--fill-color);\n",
              "    }\n",
              "    40% {\n",
              "      border-color: transparent;\n",
              "      border-right-color: var(--fill-color);\n",
              "      border-top-color: var(--fill-color);\n",
              "    }\n",
              "    60% {\n",
              "      border-color: transparent;\n",
              "      border-right-color: var(--fill-color);\n",
              "    }\n",
              "    80% {\n",
              "      border-color: transparent;\n",
              "      border-right-color: var(--fill-color);\n",
              "      border-bottom-color: var(--fill-color);\n",
              "    }\n",
              "    90% {\n",
              "      border-color: transparent;\n",
              "      border-bottom-color: var(--fill-color);\n",
              "    }\n",
              "  }\n",
              "</style>\n",
              "\n",
              "  <script>\n",
              "    async function quickchart(key) {\n",
              "      const quickchartButtonEl =\n",
              "        document.querySelector('#' + key + ' button');\n",
              "      quickchartButtonEl.disabled = true;  // To prevent multiple clicks.\n",
              "      quickchartButtonEl.classList.add('colab-df-spinner');\n",
              "      try {\n",
              "        const charts = await google.colab.kernel.invokeFunction(\n",
              "            'suggestCharts', [key], {});\n",
              "      } catch (error) {\n",
              "        console.error('Error during call to suggestCharts:', error);\n",
              "      }\n",
              "      quickchartButtonEl.classList.remove('colab-df-spinner');\n",
              "      quickchartButtonEl.classList.add('colab-df-quickchart-complete');\n",
              "    }\n",
              "    (() => {\n",
              "      let quickchartButtonEl =\n",
              "        document.querySelector('#df-69045402-25dc-4bc8-aa3c-1681702dba0c button');\n",
              "      quickchartButtonEl.style.display =\n",
              "        google.colab.kernel.accessAllowed ? 'block' : 'none';\n",
              "    })();\n",
              "  </script>\n",
              "</div>\n",
              "\n",
              "    </div>\n",
              "  </div>\n"
            ],
            "application/vnd.google.colaboratory.intrinsic+json": {
              "type": "dataframe",
              "variable_name": "dfx",
              "summary": "{\n  \"name\": \"dfx\",\n  \"rows\": 6,\n  \"fields\": [\n    {\n      \"column\": \"Movie\",\n      \"properties\": {\n        \"dtype\": \"category\",\n        \"num_unique_values\": 2,\n        \"samples\": [\n          \"Eternals\",\n          \"Ex Machina\"\n        ],\n        \"semantic_type\": \"\",\n        \"description\": \"\"\n      }\n    },\n    {\n      \"column\": \"Review Text\",\n      \"properties\": {\n        \"dtype\": \"string\",\n        \"num_unique_values\": 6,\n        \"samples\": [\n          \"Intelligent Movie.\\nThis movie is obviously allegorical, a fascinating tale about AI, but it is mainly about manipulation and power. It isn't for those wanting action or spectacular CGI, the movie is aimed at people who like to think, rather than passively wait to be entertained. There are themes here not only about AI, but also about surveillance, with excellent points about how data about us is collected by phone companies, search engine companies, commercial operating systems makers and so on. The plot seems simple but isn't, it's extremely clever, with the protagonist playing games, trying to stay one step ahead of one another. This is a movie with perfectly consistent internal logic that plays out perfectly. Don't go in expecting too much, however, as I can see most people will not be satisfied by this movie, but for me, it does what it sets out to do brilliantly. Therefore I give at least 9/10. And most recent movies have been getting 5/10 from me. This movie succeeds where another recent movie about AI, Transcendence, I think it is called, failed (but it was an interesting failure). A third movie about AI, a Spanish movie called Eva, was also brilliant. Eva was more moving and this movie more philosophical. But both movies were perfect in their different ways. The AI's name in this movie, Ava, seems to be a nod to the title of the Spanish movie. As an aside, it's nice that no \\\"stars\\\" appeared in \\\"Ex Machina\\\" and \\\"Eva\\\", the casting was great. Of course there are several aspects of this movie that are unrealistic and often absurd. But because this is an allegorical movie, these are acceptable, because the movie is making points, rather than striving for realism. It's more of a fairytale than accurate portrayal.\",\n          \"Extraordinary and thought-provoking.\\n'Ex machina' is surprisingly dense, more so than other titles Alex Garland has written, perhaps excepting only 'Annihilation.' The simple concept is given a definite narrative, but that narrative pointedly explores the very nature of thought, and perception, and further broaching the nature and ramifications of morality. This is a psychological thriller, and in fundamental construction and in minute rendering alike, it is more intense than any other feature in the genre that I can name offhand, so much so as to almost classify as horror. The movie emphasizes and plays on dire uncertainty of intent, motivation, and reality all the way through to the climax, and even then leaves us with a somewhat ambiguous ending. And from ordinary beginning to captivating ending, at every point 'Ex machina' is absolutely marvelous.\\n\\nOf any performance I've seen from Oscar Isaac, none have been nearly so forceful as his portrayal of Nathan, exhibiting outstanding nuance and sharp personality in the realization of a man exceptionally intelligent, and exceptionally cruel and conniving. I'm not especially familiar with Domhnall Gleeson, but the Irish actor demonstrates admirable range and poise readily matching the same traits that are more immediately notable in his costars. And with that said - certainly not to count out anyone else involved - Alicia Vikander is phenomenal as Ava, showing a careful exactness to every motion and expression befitting the character, and impressing with her skills in the most subtle of ways.\\n\\nI love the score composed between Ben Salisbury and Geoff Barrow, lending to the pensive unease about the film and building to a great crescendo at the precise appropriate moments. The sound design is exquisite - soft and unobtrusive, and with those qualities denoting both the meticulous craft of the feature, and the highly advanced status of Ava. So it is, too, with the special effects; to read a little bit of the production history informs of the substantial effort made to ensure every element of Nathan's creation was visualized with the utmost possibility of realism. And I think that endeavor paid off handsomely.\\n\\nThe characters as written are wonderfully complex, and the dialogue deceptively so. Garland's scene writing is impeccable and deeply engrossing, to say nothing of the overall narrative that delves into such heavy subject matter. Even being aware of the acclaim the feature had garnered since its release, I wasn't wholly sure what to expect as I sat to watch. What I got far exceeded anything I had imagined, mostly stepping away significantly from the common story ideas that populate most sci-fi films about artificial intelligence. Garland's screenplay analyzes consciousness with depth, completeness, and potency that I wouldn't have anticipated from a genre picture, and the result is so terrifically engaging as to be exhilarating. Factor in sound performances and excellent music, and 'Ex machina' is a firmly first-rate slice of science fiction that I call a must-see.\"\n        ],\n        \"semantic_type\": \"\",\n        \"description\": \"\"\n      }\n    },\n    {\n      \"column\": \"IMDb Rating\",\n      \"properties\": {\n        \"dtype\": \"number\",\n        \"std\": 4,\n        \"min\": 1,\n        \"max\": 10,\n        \"num_unique_values\": 4,\n        \"samples\": [\n          10,\n          1\n        ],\n        \"semantic_type\": \"\",\n        \"description\": \"\"\n      }\n    },\n    {\n      \"column\": \"Predicted Sentiments\",\n      \"properties\": {\n        \"dtype\": \"float32\",\n        \"num_unique_values\": 6,\n        \"samples\": [\n          8.100000381469727,\n          9.899999618530273\n        ],\n        \"semantic_type\": \"\",\n        \"description\": \"\"\n      }\n    }\n  ]\n}"
            }
          },
          "metadata": {},
          "execution_count": 65
        }
      ]
    },
    {
      "cell_type": "code",
      "source": [
        "# Get user input\n",
        "user_input = input(\"Enter your text: \")\n",
        "\n",
        "# Preprocess the input text\n",
        "processed_text = preprocess_text(user_input)\n",
        "\n",
        "# Create a list containing only the processed user input\n",
        "unseen_processed = [processed_text]\n",
        "# Tokenising instance with earlier trained tokeniser\n",
        "unseen_tokenized = word_tokenizer.texts_to_sequences(unseen_processed)\n",
        "\n",
        "# Pooling instance to have maxlength of 100 tokens\n",
        "unseen_padded = pad_sequences(unseen_tokenized, padding='post', maxlen=maxlen)\n",
        "# Passing tokenised instance to the LSTM model for predictions\n",
        "unseen_sentiments = pretrained_lstm_model.predict(unseen_padded)\n",
        "\n",
        "\n",
        "# Print the processed text (optional)\n",
        "print(\"Processed text:\", unseen_sentiments)"
      ],
      "metadata": {
        "colab": {
          "base_uri": "https://localhost:8080/"
        },
        "id": "gnPE4wFtb74N",
        "outputId": "5816e066-e707-4da4-c524-fdf2f270323d"
      },
      "execution_count": null,
      "outputs": [
        {
          "output_type": "stream",
          "name": "stdout",
          "text": [
            "Enter your text: 069148\n",
            "1/1 [==============================] - 0s 35ms/step\n",
            "Processed text: [[0.52743065]]\n"
          ]
        }
      ]
    },
    {
      "cell_type": "markdown",
      "source": [
        "# 4. Model Evaluation\n"
      ],
      "metadata": {
        "id": "3qIcSEn4bs-l"
      }
    },
    {
      "cell_type": "code",
      "source": [
        "# Make predictions\n",
        "predicted_sentiments = pretrained_lstm_model.predict(X_test)\n",
        "\n",
        "# Convert predicted probabilities to binary values\n",
        "predicted_sentiments = np.round(predicted_sentiments)\n",
        "\n",
        "# Calculate evaluation metrics\n",
        "from sklearn.metrics import accuracy_score, precision_score, recall_score, f1_score\n",
        "\n",
        "accuracy = accuracy_score(y_test, predicted_sentiments)\n",
        "precision = precision_score(y_test, predicted_sentiments)\n",
        "recall = recall_score(y_test, predicted_sentiments)\n",
        "f1 = f1_score(y_test, predicted_sentiments)\n",
        "\n",
        "print(\"Accuracy:\", accuracy)\n",
        "print(\"Precision:\", precision)\n",
        "print(\"Recall:\", recall)\n",
        "print(\"F1 Score:\", f1)"
      ],
      "metadata": {
        "id": "mFCy4Mr8bjBW",
        "colab": {
          "base_uri": "https://localhost:8080/"
        },
        "outputId": "1ff5d938-4ec3-498c-bd48-cd3b958aecfe"
      },
      "execution_count": null,
      "outputs": [
        {
          "output_type": "stream",
          "name": "stdout",
          "text": [
            "313/313 [==============================] - 17s 54ms/step\n",
            "Accuracy: 0.8632\n",
            "Precision: 0.8530486632044624\n",
            "Recall: 0.8801349474102005\n",
            "F1 Score: 0.8663801523735105\n"
          ]
        }
      ]
    },
    {
      "cell_type": "code",
      "source": [
        "import seaborn as sns\n",
        "\n",
        "# Create a bar chart of the evaluation metrics\n",
        "sns.barplot(x=['Accuracy', 'Precision', 'Recall', 'F1 Score'], y=[accuracy, precision, recall, f1], palette='Set2')\n",
        "plt.title('Model Evaluation Metrics')\n",
        "plt.show()"
      ],
      "metadata": {
        "id": "0pTdFeP631BS",
        "colab": {
          "base_uri": "https://localhost:8080/",
          "height": 559
        },
        "outputId": "b34f6ee6-8918-4d21-92c6-b1ac58fb7ccb"
      },
      "execution_count": null,
      "outputs": [
        {
          "output_type": "stream",
          "name": "stderr",
          "text": [
            "<ipython-input-68-8d9a72e373ae>:4: FutureWarning: \n",
            "\n",
            "Passing `palette` without assigning `hue` is deprecated and will be removed in v0.14.0. Assign the `x` variable to `hue` and set `legend=False` for the same effect.\n",
            "\n",
            "  sns.barplot(x=['Accuracy', 'Precision', 'Recall', 'F1 Score'], y=[accuracy, precision, recall, f1], palette='Set2')\n"
          ]
        },
        {
          "output_type": "display_data",
          "data": {
            "text/plain": [
              "<Figure size 640x480 with 1 Axes>"
            ],
            "image/png": "[encoded data removed]"
          },
          "metadata": {}
        }
      ]
    },
    {
      "cell_type": "code",
      "source": [
        "from sklearn.metrics import confusion_matrix\n",
        "\n",
        "# Create a confusion matrix\n",
        "cm = confusion_matrix(y_test, predicted_sentiments)\n",
        "\n",
        "# Plot the confusion matrix\n",
        "plt.figure(figsize=(8, 6))\n",
        "sns.heatmap(cm, annot=True, fmt='d', xticklabels=['Negative', 'Positive'], yticklabels=['Negative', 'Positive'])\n",
        "plt.xlabel('Predicted')\n",
        "plt.ylabel('Actual')\n",
        "plt.title('Confusion Matrix')\n",
        "plt.show()"
      ],
      "metadata": {
        "id": "Ml3qZCf-653c",
        "colab": {
          "base_uri": "https://localhost:8080/",
          "height": 564
        },
        "outputId": "4cb74a8e-b2f0-4838-ba82-4b6178c589b1"
      },
      "execution_count": null,
      "outputs": [
        {
          "output_type": "display_data",
          "data": {
            "text/plain": [
              "<Figure size 800x600 with 2 Axes>"
            ],
            "image/png": "[encoded data removed]"
          },
          "metadata": {}
        }
      ]
    },
    {
      "cell_type": "markdown",
      "source": [
        "# 5. Model Interpretation and Insights:"
      ],
      "metadata": {
        "id": "eh3GKnQN_Vqe"
      }
    },
    {
      "cell_type": "code",
      "source": [
        "# Preprocess review text with earlier defined preprocess_text function\n",
        "\n",
        "unseen_reviews = sample_reviews['Review Text']\n",
        "\n",
        "unseen_processed = []\n",
        "for review in unseen_reviews:\n",
        "  review = preprocess_text(review)\n",
        "  unseen_processed.append(review)"
      ],
      "metadata": {
        "id": "nF-EEbvKQJsm"
      },
      "execution_count": null,
      "outputs": []
    },
    {
      "cell_type": "code",
      "source": [
        "from getpass import getpass\n",
        "review = getpass('Enter your review: ')"
      ],
      "metadata": {
        "id": "GFkeNErPQfDi"
      },
      "execution_count": null,
      "outputs": []
    },
    {
      "cell_type": "code",
      "source": [
        "import numpy as np\n",
        "\n",
        "# Ensure that weights and word tokenizer are properly defined\n",
        "if not hasattr(pretrained_lstm_model, 'get_weights'):\n",
        "    raise ValueError(\"The model doesn't have get_weights() method.\")\n",
        "\n",
        "if not hasattr(word_tokenizer, 'word_index'):\n",
        "    raise ValueError(\"The word tokenizer doesn't have word_index attribute.\")\n",
        "\n",
        "# Get the model's weights and biases\n",
        "weights = pretrained_lstm_model.get_weights()[0]\n",
        "\n",
        "# Convert sequences back into words\n",
        "reverse_word_index = {v: k for k, v in word_tokenizer.word_index.items()}\n",
        "\n",
        "# Ensure that unseen_processed is properly preprocessed\n",
        "if not unseen_processed:\n",
        "    raise ValueError(\"unseen_processed is empty.\")\n",
        "\n",
        "# Identify the most important words for positive and negative sentiment\n",
        "positive_sequences = [{'sequence': seq, 'weight': weight.tolist()} for seq, weight in zip(unseen_processed, weights) if np.any(weight > 0)]\n",
        "negative_sequences = [{'sequence': seq, 'weight': weight.tolist()} for seq, weight in zip(unseen_processed, weights) if np.any(weight < 0)]\n",
        "\n",
        "print(\"Positive sequences:\")\n",
        "for sequence in positive_sequences:\n",
        "    print(\"Sequence:\", sequence['sequence'])\n",
        "    print(\"Weight:\", sequence['weight'])\n",
        "    print()\n",
        "\n",
        "print(\"Negative sequences:\")\n",
        "for sequence in negative_sequences:\n",
        "    print(\"Sequence:\", sequence['sequence'])\n",
        "    print(\"Weight:\", sequence['weight'])\n",
        "    print()\n"
      ],
      "metadata": {
        "colab": {
          "base_uri": "https://localhost:8080/"
        },
        "id": "6JC4SK5g_J6f",
        "outputId": "e92c0821-ca38-435d-9f69-83d094ccc0cd"
      },
      "execution_count": null,
      "outputs": [
        {
          "output_type": "stream",
          "name": "stdout",
          "text": [
            "Positive sequences:\n",
            "Sequence: extraordinary thought provoking ex machina surprisingly dense titles alex garland written perhaps excepting annihilation simple concept given definite narrative narrative pointedly explores nature thought perception broaching nature ramifications morality psychological thriller fundamental construction minute rendering alike intense feature genre name offhand much almost classify horror movie emphasizes plays dire uncertainty intent motivation reality way climax even leaves us somewhat ambiguous ending ordinary beginning captivating ending every point ex machina absolutely marvelous performance seen oscar isaac none nearly forceful portrayal nathan exhibiting outstanding nuance sharp personality realization man exceptionally intelligent exceptionally cruel conniving especially familiar domhnall gleeson irish actor demonstrates admirable range poise readily matching traits immediately notable costars said certainly count anyone else involved alicia vikander phenomenal ava showing careful exactness every motion expression befitting character impressing skills subtle ways love score composed ben salisbury geoff barrow lending pensive unease film building great crescendo precise appropriate moments sound design exquisite soft unobtrusive qualities denoting meticulous craft feature highly advanced status ava special effects read little bit production history informs substantial effort made ensure every element nathan creation visualized utmost possibility realism think endeavor paid handsomely characters written wonderfully complex dialogue deceptively garland scene writing impeccable deeply engrossing say nothing overall narrative delves heavy subject matter even aware acclaim feature garnered since release wholly sure expect sat watch got far exceeded anything imagined mostly stepping away significantly common story ideas populate sci fi films artificial intelligence garland screenplay analyzes consciousness depth completeness potency anticipated genre picture result terrifically engaging exhilarating factor sound performances excellent music ex machina firmly first rate slice science fiction call must see \n",
            "Weight: [0.3825100064277649, 0.14821000397205353, 0.6060100197792053, -0.5153300166130066, 0.43992000818252563, 0.06105300039052963, -0.6271600127220154, -0.025384999811649323, 0.16429999470710754, -0.2210099995136261, 0.14422999322414398, -0.37213000655174255, -0.21683000028133392, -0.08895000070333481, 0.09790399670600891, 0.6560999751091003, 0.6445500254631042, 0.4769800007343292, 0.8384900093078613, 1.6485999822616577, 0.8892199993133545, -0.11810000240802765, -0.01246500015258789, -0.5208200216293335, 0.7785400152206421, 0.48723000288009644, -0.014991000294685364, -0.1412699967622757, -0.3474699854850769, -0.2959499955177307, 0.10279999673366547, 0.57191002368927, -0.045593999326229095, 0.026443000882864, 0.5381600260734558, 0.32256999611854553, 0.4078800082206726, -0.043598998337984085, -0.1459999978542328, -0.483460009098053, 0.320360004901886, 0.5508599877357483, -0.7625899910926819, 0.43268999457359314, 0.6175299882888794, -0.3650299906730652, -0.6059899926185608, -0.7961500287055969, 0.3928999900817871, -0.23668000102043152, -0.3471899926662445, -0.6120100021362305, 0.547469973564148, 0.9481199979782104, 0.20940999686717987, -2.777100086212158, -0.6021999716758728, 0.8495000004768372, 1.2548999786376953, 0.017892999574542046, -0.04190099984407425, 2.1147000789642334, -0.026618000119924545, -0.2810400128364563, 0.6812400221824646, -0.1416500061750412, 0.9924899935722351, 0.4987899959087372, -0.6753799915313721, 0.641700029373169, 0.42302998900413513, -0.2791300117969513, 0.06340300291776657, 0.6890900135040283, -0.3618299961090088, 0.0537090003490448, -0.16806000471115112, 0.19422000646591187, -0.4707300066947937, -0.14802999794483185, -0.5898600220680237, -0.27970001101493835, 0.16791999340057373, 0.10567999631166458, -1.76010000705719, 0.008825399912893772, -0.8332599997520447, -0.5835999846458435, -0.3707900047302246, -0.5659099817276001, 0.20699000358581543, 0.07131499797105789, 0.05558599904179573, -0.29756999015808105, -0.07265900075435638, -0.25595998764038086, 0.42688000202178955, 0.058921001851558685, 0.09111200273036957, 0.47282999753952026]\n",
            "\n",
            "Sequence: poor story reasonable otherwise realised alex garland would bothered watching remember reading book beach years ago thinking something nice time sure seen ex machina feeling story chosen simply appeal large audience rather manipulative unthinking unfeeling way normally write bad reviews anything preferring focus positive dislike felt write something put people wasting time assimilating nastiness case ex machina imagine garland wondering would next project googling ai quickly finding ai box experiment rather heart soul searching work would necessary produce anything original imagine quickly turning somebody else idea next big proposal present film studio unoriginal idea presented fairly pedestrian way lots images derived young person view sexuality made also wonder film rather prejudiced women reasonably paced found yawning lot quite would expect good thriller domhnall gleeson ok pretty good job \n",
            "Weight: [0.19915999472141266, -0.0497019998729229, 0.2457900047302246, -0.32280999422073364, 0.8976799845695496, -0.12780000269412994, -0.495059996843338, 0.20814000070095062, -0.20046000182628632, -0.20603999495506287, 0.03829199820756912, -0.6727700233459473, -0.12689000368118286, -0.18765999376773834, -0.10277000069618225, 0.7312800288200378, 0.8240799903869629, 0.08728799968957901, 0.692550003528595, 1.3107000589370728, 0.491129994392395, -0.3809700012207031, 0.24337999522686005, -0.2781299948692322, 0.6250600218772888, 0.3597800135612488, 0.42041000723838806, -0.24528999626636505, 0.14860999584197998, -0.26725998520851135, -0.5626199841499329, 0.6384299993515015, -0.5415300130844116, 0.3653700053691864, 0.20544999837875366, -0.16604000329971313, 0.72434002161026, 0.2996099889278412, -0.42500999569892883, -0.3593200147151947, -0.08928799629211426, 0.4875200092792511, -1.0927000045776367, 0.8881800174713135, 0.8994100093841553, -0.7541000247001648, -0.35491999983787537, -0.7639600038528442, 0.2746799886226654, 0.27570000290870667, -0.48151999711990356, -0.41398999094963074, 0.6448900103569031, 1.1480000019073486, -0.29131001234054565, -2.938699960708618, -0.8316199779510498, 0.9558600187301636, 1.1622999906539917, -0.4250200092792511, 0.1548600047826767, 2.232599973678589, -0.31338998675346375, -0.03022800013422966, 0.7980200052261353, -0.4130200147628784, 0.7288500070571899, 0.7296000123023987, -0.31909000873565674, 0.8956000208854675, 0.3462499976158142, 0.2922999858856201, 0.4005599915981293, 0.7898499965667725, -0.43999001383781433, 0.2469799965620041, -0.4654799997806549, 0.05588600039482117, -0.6260300278663635, -0.036486998200416565, -0.6542900204658508, 0.10563000291585922, 0.17434999346733093, 0.3546600043773651, -1.9402999877929688, -0.022501999512314796, -0.7301999926567078, -0.6304200291633606, -0.03279900178313255, -0.43952998518943787, -0.07238999754190445, -0.44874998927116394, -0.07468900084495544, -0.1442600041627884, 0.19251999258995056, 0.27107998728752136, 0.2032500058412552, -0.06810899823904037, 0.017650999128818512, 0.0645499974489212]\n",
            "\n",
            "Sequence: great potential movie one countless come hollywood great potential however like many personalities hollywood sold soul cheap finish beautiful ideas movie could great however producers chose go cheap thriller effect instead exploring truly makes us human machine conceived written produced idiots soul waste time redeeming part movie dweeb gets sent sticks surprised smartphone tell signal producers writers piece crap obviously signal also \n",
            "Weight: [-0.22556999325752258, 0.49417999386787415, 0.4860999882221222, -0.43320000171661377, 0.13738000392913818, 0.5061699748039246, 0.26058000326156616, 0.3010300099849701, -0.09148599952459335, 0.10875999927520752, 0.3057999908924103, 0.05102799832820892, 0.2230300009250641, 0.054235998541116714, 0.06883800029754639, -0.2470099925994873, 0.3268899917602539, -0.08220300078392029, -0.2886599898338318, 0.3734000027179718, 0.7380399703979492, -0.04096899926662445, 0.04020100086927414, 0.1138399988412857, 0.6998699903488159, -0.49744999408721924, -0.06755000352859497, -0.4259899854660034, -0.10724999755620956, -0.010696999728679657, -0.014790000393986702, 0.5597599744796753, 0.30640000104904175, 0.05305299907922745, 0.05803399905562401, 0.3275600075721741, -0.3723300099372864, 0.4651300013065338, 0.14284999668598175, -0.08500300347805023, -0.45475998520851135, 0.19773000478744507, 0.6383000016212463, -0.31147998571395874, 0.10858000069856644, 0.31556999683380127, 0.36682000756263733, -0.35135000944137573, -0.484140008687973, -0.3323499858379364, -0.3381600081920624, -0.39678001403808594, 0.1907999962568283, 1.3513000011444092, -0.3904399871826172, -2.879499912261963, -0.1427599936723709, -0.08775400370359421, 1.771299958229065, 0.9933199882507324, -0.14128999412059784, 0.9438899755477905, 0.05089699849486351, 0.4737299978733063, 0.8638700246810913, -0.16162000596523285, 0.6719899773597717, 0.5234400033950806, 0.14438000321388245, -0.05519400164484978, -0.34668999910354614, -0.2074200063943863, 0.18907000124454498, -0.1984499990940094, 0.3486199975013733, 0.10120999813079834, -0.092119000852108, -0.6625800132751465, -1.0582000017166138, -0.11802999675273895, 0.7017099857330322, 0.0777759999036789, -0.5054600238800049, 0.032242998480796814, -1.6175999641418457, -0.29302000999450684, -0.06174800172448158, -0.3247300088405609, 0.34389999508857727, -0.44697999954223633, 0.0856890007853508, 0.13294999301433563, -0.18070000410079956, -0.11853999644517899, -0.8298500180244446, 0.13784000277519226, -0.34358999133110046, -0.45743998885154724, 0.4964599907398224, 0.3490599989891052]\n",
            "\n",
            "Sequence: amazing visuals philosophical concepts eternals visual masterpiece inner challenges eternals face great signifier mcu moving mature meaningful phase look deeper plot events significance appreciate detail put timeline spans thousands years low underwhelming ratings seem obviously place despite fact many people loved mcu couple buff guys sexualised women transition mcu going inevitable franchise supported generations quite frankly awesome besides stunning visuals deep undertones chloe zhao certainly packs enough fight scenes possibly needed eternal represents unique power connected source cosmic energy variability allows exhilarating fight scenes arguably interesting couple punches kicks stray flying weapon love stories quaint meaningful certainly take much run time overall new age maturity deeper concepts seen movie definitely something look forward phase \n",
            "Weight: [-0.2687000036239624, 0.817080020904541, 0.69896000623703, -0.7234100103378296, 0.09156599640846252, 0.19557000696659088, -0.521120011806488, -0.24312999844551086, -0.44701001048088074, -0.27039000391960144, -0.34125998616218567, -0.46898001432418823, 0.42583000659942627, 0.46288999915122986, 0.1710599958896637, -0.26794999837875366, 0.23161999881267548, 0.46568000316619873, -0.31808000802993774, 0.7587500214576721, 0.31856998801231384, 0.6412400007247925, 0.06704200059175491, -0.1851699948310852, 0.4999600052833557, 0.3696399927139282, -0.31172001361846924, -0.7309799790382385, -0.2690199911594391, -0.32058000564575195, 0.2339400053024292, 0.24276000261306763, 0.14259999990463257, -0.2793000042438507, 0.38822999596595764, 0.4239799976348877, 0.10209999978542328, 0.33316001296043396, 0.30149999260902405, -0.5271099805831909, -0.02447500079870224, -0.15300999581813812, -0.3224000036716461, -0.5123100280761719, -0.5525000095367432, 0.29818999767303467, 0.10847000032663345, 0.052333999425172806, -0.2298000007867813, -0.7788900136947632, -0.08928000181913376, 0.4810900092124939, 0.01536799967288971, 0.9254400134086609, -0.2612200081348419, -2.4758999347686768, -0.019825000315904617, 0.5828099846839905, 1.305999994277954, 0.7351199984550476, -0.3437199890613556, 1.582900047302246, -0.1081399992108345, 0.11388000100851059, 0.7922000288963318, 0.1834699958562851, 1.2231999635696411, 0.35697001218795776, 0.17504000663757324, -0.16527000069618225, -0.01282699964940548, -0.4791800081729889, -0.3211100101470947, -0.4057300090789795, -0.37150999903678894, 0.08632300049066544, 0.25172001123428345, -0.08275099843740463, -0.255840003490448, -0.1917800009250641, 1.0473999977111816, -0.5198400020599365, -0.7146300077438354, 0.38826999068260193, -1.6721999645233154, 0.015985999256372452, -0.2266799956560135, -0.2660199999809265, -0.5792499780654907, -0.8565099835395813, 0.20543000102043152, -0.4637199938297272, -0.06565199792385101, -0.06194400042295456, -0.5723299980163574, -0.4640600085258484, -0.41405001282691956, -0.4011000096797943, 0.7465699911117554, 0.3112199902534485]\n",
            "\n",
            "Sequence: worst mcu film ever following events avengers endgame unexpected tragedy forces eternals ancient aliens living earth secret thousands years shadows reunite mankind ancient enemy deviants film far worst mcu film watch massive insuylt comics jack kirby days gender swapping eternals bad story telling makes absolutely sense unlikeable characters little action ridicules changes mcu sum bad film completely ruined endgame goods music cgi arishen well bonus points voiced david kaye good movie makes captain marvel iron man look good \n",
            "Weight: [-0.030768999829888344, 0.11992999911308289, 0.5390899777412415, -0.43696001172065735, -0.7393699884414673, -0.15344999730587006, 0.08112599700689316, -0.38558998703956604, -0.687969982624054, -0.41631999611854553, -0.13183000683784485, -0.24921999871730804, 0.4410000145435333, 0.08591900020837784, 0.20870999991893768, -0.06358200311660767, 0.0622280016541481, -0.05123399943113327, -0.13398000597953796, 1.141800045967102, 0.03652599826455116, 0.49028998613357544, -0.24567000567913055, -0.41200000047683716, 0.12348999828100204, 0.41335999965667725, -0.4839699864387512, -0.5424299836158752, -0.2778699994087219, -0.2601499855518341, -0.38484999537467957, 0.7865599989891052, 0.1023000031709671, -0.20712000131607056, 0.40751001238822937, 0.3202599883079529, -0.5105199813842773, 0.4836199879646301, -0.009949799627065659, -0.3868499994277954, 0.034974999725818634, -0.16699999570846558, 0.4237000048160553, -0.5416399836540222, -0.3032299876213074, -0.36983001232147217, 0.08283600211143494, -0.52538001537323, -0.06453099846839905, -1.3980000019073486, -0.14872999489307404, -0.3532699942588806, -0.11180000007152557, 1.0911999940872192, 0.09586399793624878, -2.8129000663757324, 0.4523800015449524, 0.46213001012802124, 1.601199984550476, -0.20837000012397766, -0.2737700045108795, 0.7119699716567993, -1.0753999948501587, -0.046973999589681625, 0.6747900247573853, -0.0658390000462532, 0.7582399845123291, 0.3940500020980835, 0.1550700068473816, -0.6471899747848511, 0.3279600143432617, -0.03174800053238869, 0.5289899706840515, -0.4388599991798401, 0.674049973487854, 0.42135998606681824, -0.11981000006198883, -0.21776999533176422, -0.2975600063800812, -0.13510000705718994, 0.5989800095558167, 0.46529000997543335, -0.5825799703598022, -0.023229999467730522, -1.5441999435424805, 0.019009999930858612, -0.015876999124884605, 0.02449899911880493, -0.5801699757575989, -0.6765900254249573, -0.04037899896502495, -0.4404299855232239, 0.08329199999570847, 0.20035000145435333, -0.7549899816513062, 0.1691800057888031, -0.26572999358177185, -0.5287799835205078, 0.17584000527858734, 1.065000057220459]\n",
            "\n",
            "Negative sequences:\n",
            "Sequence: extraordinary thought provoking ex machina surprisingly dense titles alex garland written perhaps excepting annihilation simple concept given definite narrative narrative pointedly explores nature thought perception broaching nature ramifications morality psychological thriller fundamental construction minute rendering alike intense feature genre name offhand much almost classify horror movie emphasizes plays dire uncertainty intent motivation reality way climax even leaves us somewhat ambiguous ending ordinary beginning captivating ending every point ex machina absolutely marvelous performance seen oscar isaac none nearly forceful portrayal nathan exhibiting outstanding nuance sharp personality realization man exceptionally intelligent exceptionally cruel conniving especially familiar domhnall gleeson irish actor demonstrates admirable range poise readily matching traits immediately notable costars said certainly count anyone else involved alicia vikander phenomenal ava showing careful exactness every motion expression befitting character impressing skills subtle ways love score composed ben salisbury geoff barrow lending pensive unease film building great crescendo precise appropriate moments sound design exquisite soft unobtrusive qualities denoting meticulous craft feature highly advanced status ava special effects read little bit production history informs substantial effort made ensure every element nathan creation visualized utmost possibility realism think endeavor paid handsomely characters written wonderfully complex dialogue deceptively garland scene writing impeccable deeply engrossing say nothing overall narrative delves heavy subject matter even aware acclaim feature garnered since release wholly sure expect sat watch got far exceeded anything imagined mostly stepping away significantly common story ideas populate sci fi films artificial intelligence garland screenplay analyzes consciousness depth completeness potency anticipated genre picture result terrifically engaging exhilarating factor sound performances excellent music ex machina firmly first rate slice science fiction call must see \n",
            "Weight: [0.3825100064277649, 0.14821000397205353, 0.6060100197792053, -0.5153300166130066, 0.43992000818252563, 0.06105300039052963, -0.6271600127220154, -0.025384999811649323, 0.16429999470710754, -0.2210099995136261, 0.14422999322414398, -0.37213000655174255, -0.21683000028133392, -0.08895000070333481, 0.09790399670600891, 0.6560999751091003, 0.6445500254631042, 0.4769800007343292, 0.8384900093078613, 1.6485999822616577, 0.8892199993133545, -0.11810000240802765, -0.01246500015258789, -0.5208200216293335, 0.7785400152206421, 0.48723000288009644, -0.014991000294685364, -0.1412699967622757, -0.3474699854850769, -0.2959499955177307, 0.10279999673366547, 0.57191002368927, -0.045593999326229095, 0.026443000882864, 0.5381600260734558, 0.32256999611854553, 0.4078800082206726, -0.043598998337984085, -0.1459999978542328, -0.483460009098053, 0.320360004901886, 0.5508599877357483, -0.7625899910926819, 0.43268999457359314, 0.6175299882888794, -0.3650299906730652, -0.6059899926185608, -0.7961500287055969, 0.3928999900817871, -0.23668000102043152, -0.3471899926662445, -0.6120100021362305, 0.547469973564148, 0.9481199979782104, 0.20940999686717987, -2.777100086212158, -0.6021999716758728, 0.8495000004768372, 1.2548999786376953, 0.017892999574542046, -0.04190099984407425, 2.1147000789642334, -0.026618000119924545, -0.2810400128364563, 0.6812400221824646, -0.1416500061750412, 0.9924899935722351, 0.4987899959087372, -0.6753799915313721, 0.641700029373169, 0.42302998900413513, -0.2791300117969513, 0.06340300291776657, 0.6890900135040283, -0.3618299961090088, 0.0537090003490448, -0.16806000471115112, 0.19422000646591187, -0.4707300066947937, -0.14802999794483185, -0.5898600220680237, -0.27970001101493835, 0.16791999340057373, 0.10567999631166458, -1.76010000705719, 0.008825399912893772, -0.8332599997520447, -0.5835999846458435, -0.3707900047302246, -0.5659099817276001, 0.20699000358581543, 0.07131499797105789, 0.05558599904179573, -0.29756999015808105, -0.07265900075435638, -0.25595998764038086, 0.42688000202178955, 0.058921001851558685, 0.09111200273036957, 0.47282999753952026]\n",
            "\n",
            "Sequence: poor story reasonable otherwise realised alex garland would bothered watching remember reading book beach years ago thinking something nice time sure seen ex machina feeling story chosen simply appeal large audience rather manipulative unthinking unfeeling way normally write bad reviews anything preferring focus positive dislike felt write something put people wasting time assimilating nastiness case ex machina imagine garland wondering would next project googling ai quickly finding ai box experiment rather heart soul searching work would necessary produce anything original imagine quickly turning somebody else idea next big proposal present film studio unoriginal idea presented fairly pedestrian way lots images derived young person view sexuality made also wonder film rather prejudiced women reasonably paced found yawning lot quite would expect good thriller domhnall gleeson ok pretty good job \n",
            "Weight: [0.19915999472141266, -0.0497019998729229, 0.2457900047302246, -0.32280999422073364, 0.8976799845695496, -0.12780000269412994, -0.495059996843338, 0.20814000070095062, -0.20046000182628632, -0.20603999495506287, 0.03829199820756912, -0.6727700233459473, -0.12689000368118286, -0.18765999376773834, -0.10277000069618225, 0.7312800288200378, 0.8240799903869629, 0.08728799968957901, 0.692550003528595, 1.3107000589370728, 0.491129994392395, -0.3809700012207031, 0.24337999522686005, -0.2781299948692322, 0.6250600218772888, 0.3597800135612488, 0.42041000723838806, -0.24528999626636505, 0.14860999584197998, -0.26725998520851135, -0.5626199841499329, 0.6384299993515015, -0.5415300130844116, 0.3653700053691864, 0.20544999837875366, -0.16604000329971313, 0.72434002161026, 0.2996099889278412, -0.42500999569892883, -0.3593200147151947, -0.08928799629211426, 0.4875200092792511, -1.0927000045776367, 0.8881800174713135, 0.8994100093841553, -0.7541000247001648, -0.35491999983787537, -0.7639600038528442, 0.2746799886226654, 0.27570000290870667, -0.48151999711990356, -0.41398999094963074, 0.6448900103569031, 1.1480000019073486, -0.29131001234054565, -2.938699960708618, -0.8316199779510498, 0.9558600187301636, 1.1622999906539917, -0.4250200092792511, 0.1548600047826767, 2.232599973678589, -0.31338998675346375, -0.03022800013422966, 0.7980200052261353, -0.4130200147628784, 0.7288500070571899, 0.7296000123023987, -0.31909000873565674, 0.8956000208854675, 0.3462499976158142, 0.2922999858856201, 0.4005599915981293, 0.7898499965667725, -0.43999001383781433, 0.2469799965620041, -0.4654799997806549, 0.05588600039482117, -0.6260300278663635, -0.036486998200416565, -0.6542900204658508, 0.10563000291585922, 0.17434999346733093, 0.3546600043773651, -1.9402999877929688, -0.022501999512314796, -0.7301999926567078, -0.6304200291633606, -0.03279900178313255, -0.43952998518943787, -0.07238999754190445, -0.44874998927116394, -0.07468900084495544, -0.1442600041627884, 0.19251999258995056, 0.27107998728752136, 0.2032500058412552, -0.06810899823904037, 0.017650999128818512, 0.0645499974489212]\n",
            "\n",
            "Sequence: great potential movie one countless come hollywood great potential however like many personalities hollywood sold soul cheap finish beautiful ideas movie could great however producers chose go cheap thriller effect instead exploring truly makes us human machine conceived written produced idiots soul waste time redeeming part movie dweeb gets sent sticks surprised smartphone tell signal producers writers piece crap obviously signal also \n",
            "Weight: [-0.22556999325752258, 0.49417999386787415, 0.4860999882221222, -0.43320000171661377, 0.13738000392913818, 0.5061699748039246, 0.26058000326156616, 0.3010300099849701, -0.09148599952459335, 0.10875999927520752, 0.3057999908924103, 0.05102799832820892, 0.2230300009250641, 0.054235998541116714, 0.06883800029754639, -0.2470099925994873, 0.3268899917602539, -0.08220300078392029, -0.2886599898338318, 0.3734000027179718, 0.7380399703979492, -0.04096899926662445, 0.04020100086927414, 0.1138399988412857, 0.6998699903488159, -0.49744999408721924, -0.06755000352859497, -0.4259899854660034, -0.10724999755620956, -0.010696999728679657, -0.014790000393986702, 0.5597599744796753, 0.30640000104904175, 0.05305299907922745, 0.05803399905562401, 0.3275600075721741, -0.3723300099372864, 0.4651300013065338, 0.14284999668598175, -0.08500300347805023, -0.45475998520851135, 0.19773000478744507, 0.6383000016212463, -0.31147998571395874, 0.10858000069856644, 0.31556999683380127, 0.36682000756263733, -0.35135000944137573, -0.484140008687973, -0.3323499858379364, -0.3381600081920624, -0.39678001403808594, 0.1907999962568283, 1.3513000011444092, -0.3904399871826172, -2.879499912261963, -0.1427599936723709, -0.08775400370359421, 1.771299958229065, 0.9933199882507324, -0.14128999412059784, 0.9438899755477905, 0.05089699849486351, 0.4737299978733063, 0.8638700246810913, -0.16162000596523285, 0.6719899773597717, 0.5234400033950806, 0.14438000321388245, -0.05519400164484978, -0.34668999910354614, -0.2074200063943863, 0.18907000124454498, -0.1984499990940094, 0.3486199975013733, 0.10120999813079834, -0.092119000852108, -0.6625800132751465, -1.0582000017166138, -0.11802999675273895, 0.7017099857330322, 0.0777759999036789, -0.5054600238800049, 0.032242998480796814, -1.6175999641418457, -0.29302000999450684, -0.06174800172448158, -0.3247300088405609, 0.34389999508857727, -0.44697999954223633, 0.0856890007853508, 0.13294999301433563, -0.18070000410079956, -0.11853999644517899, -0.8298500180244446, 0.13784000277519226, -0.34358999133110046, -0.45743998885154724, 0.4964599907398224, 0.3490599989891052]\n",
            "\n",
            "Sequence: amazing visuals philosophical concepts eternals visual masterpiece inner challenges eternals face great signifier mcu moving mature meaningful phase look deeper plot events significance appreciate detail put timeline spans thousands years low underwhelming ratings seem obviously place despite fact many people loved mcu couple buff guys sexualised women transition mcu going inevitable franchise supported generations quite frankly awesome besides stunning visuals deep undertones chloe zhao certainly packs enough fight scenes possibly needed eternal represents unique power connected source cosmic energy variability allows exhilarating fight scenes arguably interesting couple punches kicks stray flying weapon love stories quaint meaningful certainly take much run time overall new age maturity deeper concepts seen movie definitely something look forward phase \n",
            "Weight: [-0.2687000036239624, 0.817080020904541, 0.69896000623703, -0.7234100103378296, 0.09156599640846252, 0.19557000696659088, -0.521120011806488, -0.24312999844551086, -0.44701001048088074, -0.27039000391960144, -0.34125998616218567, -0.46898001432418823, 0.42583000659942627, 0.46288999915122986, 0.1710599958896637, -0.26794999837875366, 0.23161999881267548, 0.46568000316619873, -0.31808000802993774, 0.7587500214576721, 0.31856998801231384, 0.6412400007247925, 0.06704200059175491, -0.1851699948310852, 0.4999600052833557, 0.3696399927139282, -0.31172001361846924, -0.7309799790382385, -0.2690199911594391, -0.32058000564575195, 0.2339400053024292, 0.24276000261306763, 0.14259999990463257, -0.2793000042438507, 0.38822999596595764, 0.4239799976348877, 0.10209999978542328, 0.33316001296043396, 0.30149999260902405, -0.5271099805831909, -0.02447500079870224, -0.15300999581813812, -0.3224000036716461, -0.5123100280761719, -0.5525000095367432, 0.29818999767303467, 0.10847000032663345, 0.052333999425172806, -0.2298000007867813, -0.7788900136947632, -0.08928000181913376, 0.4810900092124939, 0.01536799967288971, 0.9254400134086609, -0.2612200081348419, -2.4758999347686768, -0.019825000315904617, 0.5828099846839905, 1.305999994277954, 0.7351199984550476, -0.3437199890613556, 1.582900047302246, -0.1081399992108345, 0.11388000100851059, 0.7922000288963318, 0.1834699958562851, 1.2231999635696411, 0.35697001218795776, 0.17504000663757324, -0.16527000069618225, -0.01282699964940548, -0.4791800081729889, -0.3211100101470947, -0.4057300090789795, -0.37150999903678894, 0.08632300049066544, 0.25172001123428345, -0.08275099843740463, -0.255840003490448, -0.1917800009250641, 1.0473999977111816, -0.5198400020599365, -0.7146300077438354, 0.38826999068260193, -1.6721999645233154, 0.015985999256372452, -0.2266799956560135, -0.2660199999809265, -0.5792499780654907, -0.8565099835395813, 0.20543000102043152, -0.4637199938297272, -0.06565199792385101, -0.06194400042295456, -0.5723299980163574, -0.4640600085258484, -0.41405001282691956, -0.4011000096797943, 0.7465699911117554, 0.3112199902534485]\n",
            "\n",
            "Sequence: worst mcu film ever following events avengers endgame unexpected tragedy forces eternals ancient aliens living earth secret thousands years shadows reunite mankind ancient enemy deviants film far worst mcu film watch massive insuylt comics jack kirby days gender swapping eternals bad story telling makes absolutely sense unlikeable characters little action ridicules changes mcu sum bad film completely ruined endgame goods music cgi arishen well bonus points voiced david kaye good movie makes captain marvel iron man look good \n",
            "Weight: [-0.030768999829888344, 0.11992999911308289, 0.5390899777412415, -0.43696001172065735, -0.7393699884414673, -0.15344999730587006, 0.08112599700689316, -0.38558998703956604, -0.687969982624054, -0.41631999611854553, -0.13183000683784485, -0.24921999871730804, 0.4410000145435333, 0.08591900020837784, 0.20870999991893768, -0.06358200311660767, 0.0622280016541481, -0.05123399943113327, -0.13398000597953796, 1.141800045967102, 0.03652599826455116, 0.49028998613357544, -0.24567000567913055, -0.41200000047683716, 0.12348999828100204, 0.41335999965667725, -0.4839699864387512, -0.5424299836158752, -0.2778699994087219, -0.2601499855518341, -0.38484999537467957, 0.7865599989891052, 0.1023000031709671, -0.20712000131607056, 0.40751001238822937, 0.3202599883079529, -0.5105199813842773, 0.4836199879646301, -0.009949799627065659, -0.3868499994277954, 0.034974999725818634, -0.16699999570846558, 0.4237000048160553, -0.5416399836540222, -0.3032299876213074, -0.36983001232147217, 0.08283600211143494, -0.52538001537323, -0.06453099846839905, -1.3980000019073486, -0.14872999489307404, -0.3532699942588806, -0.11180000007152557, 1.0911999940872192, 0.09586399793624878, -2.8129000663757324, 0.4523800015449524, 0.46213001012802124, 1.601199984550476, -0.20837000012397766, -0.2737700045108795, 0.7119699716567993, -1.0753999948501587, -0.046973999589681625, 0.6747900247573853, -0.0658390000462532, 0.7582399845123291, 0.3940500020980835, 0.1550700068473816, -0.6471899747848511, 0.3279600143432617, -0.03174800053238869, 0.5289899706840515, -0.4388599991798401, 0.674049973487854, 0.42135998606681824, -0.11981000006198883, -0.21776999533176422, -0.2975600063800812, -0.13510000705718994, 0.5989800095558167, 0.46529000997543335, -0.5825799703598022, -0.023229999467730522, -1.5441999435424805, 0.019009999930858612, -0.015876999124884605, 0.02449899911880493, -0.5801699757575989, -0.6765900254249573, -0.04037899896502495, -0.4404299855232239, 0.08329199999570847, 0.20035000145435333, -0.7549899816513062, 0.1691800057888031, -0.26572999358177185, -0.5287799835205078, 0.17584000527858734, 1.065000057220459]\n",
            "\n"
          ]
        }
      ]
    },
    {
      "cell_type": "code",
      "source": [
        "import numpy as np\n",
        "import pandas as pd\n",
        "import matplotlib.pyplot as plt\n",
        "\n",
        "# Ensure that weights and word tokenizer are properly defined\n",
        "if not hasattr(pretrained_lstm_model, 'get_weights'):\n",
        "    raise ValueError(\"The model doesn't have get_weights() method.\")\n",
        "\n",
        "if not hasattr(word_tokenizer, 'word_index'):\n",
        "    raise ValueError(\"The word tokenizer doesn't have word_index attribute.\")\n",
        "\n",
        "# Get the model's weights and biases\n",
        "weights = pretrained_lstm_model.get_weights()[0]\n",
        "\n",
        "# Convert sequences back into words\n",
        "reverse_word_index = {v: k for k, v in word_tokenizer.word_index.items()}\n",
        "\n",
        "# Initialize dictionaries to store positive and negative word impacts\n",
        "positive_word_impacts = {}\n",
        "negative_word_impacts = {}\n",
        "\n",
        "# Calculate impact of each word based on weights\n",
        "for i, weight in enumerate(weights):\n",
        "    word = reverse_word_index.get(i, '')\n",
        "    if word:\n",
        "        impact = np.sum(weight)\n",
        "        if impact > 0:\n",
        "            positive_word_impacts[word] = impact\n",
        "        elif impact < 0:\n",
        "            negative_word_impacts[word] = impact\n",
        "\n",
        "# Sort words based on their impact for positive and negative sentiments\n",
        "sorted_positive_words = sorted(positive_word_impacts.items(), key=lambda x: x[1], reverse=True)\n",
        "sorted_negative_words = sorted(negative_word_impacts.items(), key=lambda x: x[1], reverse=True)\n",
        "\n",
        "# Create DataFrames to display the top positive and negative words and their impact\n",
        "top_positive_words_df = pd.DataFrame(sorted_positive_words[:10], columns=['Word', 'Impact'])\n",
        "top_negative_words_df = pd.DataFrame(sorted_negative_words[-10:], columns=['Word', 'Impact'])\n",
        "\n",
        "# Visualize important features impacting sentiment predictions\n",
        "plt.figure(figsize=(12, 6))\n",
        "plt.barh(top_positive_words_df['Word'], top_positive_words_df['Impact'], color='green')\n",
        "plt.xlabel('Impact')\n",
        "plt.ylabel('Word')\n",
        "plt.title('Top Words Contributing to Positive Sentiment')\n",
        "plt.show()\n",
        "\n",
        "plt.figure(figsize=(12, 6))\n",
        "plt.barh(top_negative_words_df['Word'], -top_negative_words_df['Impact'], color='red')\n",
        "plt.xlabel('Impact')\n",
        "plt.ylabel('Word')\n",
        "plt.title('Top Words Contributing to Negative Sentiment')\n",
        "plt.show()\n",
        "\n",
        "# Provide insights into common themes, sentiments, and trends observed in IMDb movie reviews\n",
        "print(\"Top Words Contributing to Positive Sentiment:\")\n",
        "print(top_positive_words_df)\n",
        "print(\"\\nTop Words Contributing to Negative Sentiment:\")\n",
        "print(top_negative_words_df)\n",
        "\n"
      ],
      "metadata": {
        "colab": {
          "base_uri": "https://localhost:8080/",
          "height": 1000
        },
        "id": "suBM74x8CwMw",
        "outputId": "a1db55c4-c1e9-4802-91ab-938e9f294002"
      },
      "execution_count": null,
      "outputs": [
        {
          "output_type": "display_data",
          "data": {
            "text/plain": [
              "<Figure size 1200x600 with 1 Axes>"
            ],
            "image/png": "[encoded data removed]"
          },
          "metadata": {}
        },
        {
          "output_type": "display_data",
          "data": {
            "text/plain": [
              "<Figure size 1200x600 with 1 Axes>"
            ],
            "image/png": "[encoded data removed]"
          },
          "metadata": {}
        },
        {
          "output_type": "stream",
          "name": "stdout",
          "text": [
            "Top Words Contributing to Positive Sentiment:\n",
            "             Word     Impact\n",
            "0         asphalt  22.310970\n",
            "1  geosynchronous  20.582682\n",
            "2           optic  19.626831\n",
            "3          strewn  18.852543\n",
            "4           trunk  18.073881\n",
            "5         runways  17.886465\n",
            "6         severed  17.843174\n",
            "7            disk  17.782692\n",
            "8         corolla  17.696344\n",
            "9            scud  17.440338\n",
            "\n",
            "Top Words Contributing to Negative Sentiment:\n",
            "         Word     Impact\n",
            "0      quotas -17.863121\n",
            "1       goals -18.015985\n",
            "2        kole -18.277725\n",
            "3     traders -18.439272\n",
            "4  strategies -18.630756\n",
            "5         meh -19.601360\n",
            "6         puh -19.948648\n",
            "7  economists -21.601412\n",
            "8         hah -22.470051\n",
            "9        urbe -22.634499\n"
          ]
        }
      ]
    },
    {
      "cell_type": "markdown",
      "source": [
        "# 6. Model Deployment and Integration:"
      ],
      "metadata": {
        "id": "tc2zmPBIPUq3"
      }
    },
    {
      "cell_type": "code",
      "source": [
        "!pip install anvil-uplink"
      ],
      "metadata": {
        "id": "w8ZPNz5mPcof",
        "colab": {
          "base_uri": "https://localhost:8080/",
          "height": 446
        },
        "outputId": "d8ed44ac-98f9-426f-9c9f-0386da852a46"
      },
      "execution_count": null,
      "outputs": [
        {
          "output_type": "stream",
          "name": "stdout",
          "text": [
            "Collecting anvil-uplink\n",
            "  Downloading anvil_uplink-0.4.2-py2.py3-none-any.whl (90 kB)\n",
            "\u001b[?25l     \u001b[90m━━━━━━━━━━━━━━━━━━━━━━━━━━━━━━━━━━━━━━━━\u001b[0m \u001b[32m0.0/90.1 kB\u001b[0m \u001b[31m?\u001b[0m eta \u001b[36m-:--:--\u001b[0m\r\u001b[2K     \u001b[91m━━━━━━━━━━━━━━━━━━━━━━━━━━━\u001b[0m\u001b[90m╺\u001b[0m\u001b[90m━━━━━━━━━━━━\u001b[0m \u001b[32m61.4/90.1 kB\u001b[0m \u001b[31m1.6 MB/s\u001b[0m eta \u001b[36m0:00:01\u001b[0m\r\u001b[2K     \u001b[90m━━━━━━━━━━━━━━━━━━━━━━━━━━━━━━━━━━━━━━━━\u001b[0m \u001b[32m90.1/90.1 kB\u001b[0m \u001b[31m1.8 MB/s\u001b[0m eta \u001b[36m0:00:00\u001b[0m\n",
            "\u001b[?25hCollecting argparse (from anvil-uplink)\n",
            "  Downloading argparse-1.4.0-py2.py3-none-any.whl (23 kB)\n",
            "Requirement already satisfied: future in /usr/local/lib/python3.10/dist-packages (from anvil-uplink) (0.18.3)\n",
            "Requirement already satisfied: six in /usr/local/lib/python3.10/dist-packages (from anvil-uplink) (1.16.0)\n",
            "Collecting ws4py (from anvil-uplink)\n",
            "  Downloading ws4py-0.5.1.tar.gz (51 kB)\n",
            "\u001b[2K     \u001b[90m━━━━━━━━━━━━━━━━━━━━━━━━━━━━━━━━━━━━━━━━\u001b[0m \u001b[32m51.4/51.4 kB\u001b[0m \u001b[31m6.1 MB/s\u001b[0m eta \u001b[36m0:00:00\u001b[0m\n",
            "\u001b[?25h  Preparing metadata (setup.py) ... \u001b[?25l\u001b[?25hdone\n",
            "Building wheels for collected packages: ws4py\n",
            "  Building wheel for ws4py (setup.py) ... \u001b[?25l\u001b[?25hdone\n",
            "  Created wheel for ws4py: filename=ws4py-0.5.1-py3-none-any.whl size=45228 sha256=0d7e6e3d5e15fb8aede6fe53da61bba90916d7216793a1d716fc16be15cf7cc1\n",
            "  Stored in directory: /root/.cache/pip/wheels/2e/7c/ad/d9c746276bf024d44296340869fcb169f1e5d80fb147351a57\n",
            "Successfully built ws4py\n",
            "Installing collected packages: ws4py, argparse, anvil-uplink\n",
            "Successfully installed anvil-uplink-0.4.2 argparse-1.4.0 ws4py-0.5.1\n"
          ]
        },
        {
          "output_type": "display_data",
          "data": {
            "application/vnd.colab-display-data+json": {
              "pip_warning": {
                "packages": [
                  "argparse",
                  "google"
                ]
              },
              "id": "541ccf0447fc468b8d51e02ae3d91d17"
            }
          },
          "metadata": {}
        }
      ]
    },
    {
      "cell_type": "code",
      "source": [
        "import anvil"
      ],
      "metadata": {
        "id": "qNJ8GBfL8n1u"
      },
      "execution_count": null,
      "outputs": []
    },
    {
      "cell_type": "code",
      "source": [
        "import anvil.server"
      ],
      "metadata": {
        "id": "FtvLe-yBYCeP"
      },
      "execution_count": null,
      "outputs": []
    },
    {
      "cell_type": "code",
      "source": [
        "anvil.server.connect(\"server_NVX6IU4IU4D24YMAPF5CLTXH-GMZFRBK4T5WPSSTN\")"
      ],
      "metadata": {
        "id": "7dgvGx_hYe7Q",
        "colab": {
          "base_uri": "https://localhost:8080/"
        },
        "outputId": "9e21fe7b-86b4-4636-bff3-385ff5550249"
      },
      "execution_count": null,
      "outputs": [
        {
          "output_type": "stream",
          "name": "stdout",
          "text": [
            "Connecting to wss://anvil.works/uplink\n",
            "Anvil websocket open\n",
            "Connected to \"Default Environment\" as SERVER\n"
          ]
        }
      ]
    },
    {
      "cell_type": "code",
      "source": [
        "# Load previously trained LSTM Model\n",
        "\n",
        "from keras.models import load_model\n",
        "\n",
        "model_path ='./c1_lstm_model_acc_0.865.h5'\n",
        "pretrained_lstm_model = load_model(model_path)\n"
      ],
      "metadata": {
        "id": "7A2B4IZdZ91c"
      },
      "execution_count": null,
      "outputs": []
    },
    {
      "cell_type": "code",
      "source": [
        "from getpass import getpass\n",
        "review = getpass('Enter your review: ')"
      ],
      "metadata": {
        "id": "kiCtC64yvDmc"
      },
      "execution_count": null,
      "outputs": []
    },
    {
      "cell_type": "code",
      "source": [
        "@anvil.server.callable\n",
        "def predict_sentiment(text):\n",
        "  # Preprocess the text\n",
        "  maxlen = 100\n",
        "\n",
        "  # Preprocess the input text\n",
        "  processed_text = preprocess_text(text)\n",
        "\n",
        "  # Create a list containing only the processed user input\n",
        "  unseen_processed = [processed_text]\n",
        "  # Tokenising instance with earlier trained tokeniser\n",
        "  unseen_tokenized = word_tokenizer.texts_to_sequences(unseen_processed)\n",
        "\n",
        "  # Pooling instance to have maxlength of 100 tokens\n",
        "  unseen_padded = pad_sequences(unseen_tokenized, padding='post', maxlen=maxlen)\n",
        "  # Passing tokenised instance to the LSTM model for predictions\n",
        "  unseen_sentiments = pretrained_lstm_model.predict(unseen_padded)\n",
        "\n",
        "\n",
        "  sentiment = np.round(unseen_sentiments*10).item()\n",
        "\n",
        "  if sentiment > 5:\n",
        "    output = \"positive\"\n",
        "  else:\n",
        "    output = \"negative\"\n",
        "\n",
        "  print(sentiment)\n",
        "  return sentiment , output\n"
      ],
      "metadata": {
        "id": "vYTlrJAiYmOS"
      },
      "execution_count": null,
      "outputs": []
    },
    {
      "cell_type": "code",
      "source": [
        "anvil.server.wait_forever()\n"
      ],
      "metadata": {
        "id": "niqGKaNAarsi",
        "colab": {
          "base_uri": "https://localhost:8080/",
          "height": 1000
        },
        "outputId": "1723f5ec-4090-4ac5-ab87-3d618d099dea"
      },
      "execution_count": null,
      "outputs": [
        {
          "output_type": "stream",
          "name": "stdout",
          "text": [
            "1/1 [==============================] - 1s 517ms/step\n",
            "0.0\n",
            "1/1 [==============================] - 0s 33ms/step\n",
            "10.0\n",
            "1/1 [==============================] - 0s 31ms/step\n",
            "10.0\n",
            "1/1 [==============================] - 0s 34ms/step\n",
            "9.0\n",
            "1/1 [==============================] - 0s 36ms/step\n",
            "5.0\n",
            "1/1 [==============================] - 0s 39ms/step\n",
            "3.0\n",
            "1/1 [==============================] - 0s 34ms/step\n",
            "10.0\n",
            "1/1 [==============================] - 0s 34ms/step\n",
            "0.0\n",
            "1/1 [==============================] - 0s 38ms/step\n",
            "9.0\n",
            "1/1 [==============================] - 0s 37ms/step\n",
            "8.0\n",
            "1/1 [==============================] - 0s 37ms/step\n",
            "0.0\n",
            "1/1 [==============================] - 0s 34ms/step\n",
            "6.0\n",
            "1/1 [==============================] - 0s 36ms/step\n",
            "1.0\n",
            "1/1 [==============================] - 0s 31ms/step\n",
            "3.0\n",
            "1/1 [==============================] - 0s 34ms/step\n",
            "9.0\n",
            "1/1 [==============================] - 0s 30ms/step\n",
            "0.0\n",
            "1/1 [==============================] - 0s 32ms/step\n",
            "10.0\n",
            "1/1 [==============================] - 0s 34ms/step\n",
            "0.0\n",
            "1/1 [==============================] - 0s 34ms/step\n",
            "0.0\n",
            "1/1 [==============================] - 0s 58ms/step\n",
            "6.0\n",
            "1/1 [==============================] - 0s 54ms/step\n",
            "1.0\n",
            "1/1 [==============================] - 0s 40ms/step\n",
            "10.0\n",
            "1/1 [==============================] - 0s 34ms/step\n",
            "1.0\n",
            "1/1 [==============================] - 0s 32ms/step\n",
            "2.0\n",
            "1/1 [==============================] - 0s 52ms/step\n",
            "7.0\n",
            "1/1 [==============================] - 0s 40ms/step\n",
            "10.0\n",
            "1/1 [==============================] - 0s 33ms/step\n",
            "1.0\n",
            "1/1 [==============================] - 0s 35ms/step\n",
            "7.0\n",
            "1/1 [==============================] - 0s 33ms/step\n",
            "10.0\n",
            "1/1 [==============================] - 0s 34ms/step\n",
            "0.0\n",
            "1/1 [==============================] - 0s 32ms/step\n",
            "1.0\n",
            "1/1 [==============================] - 0s 33ms/step\n",
            "0.0\n",
            "1/1 [==============================] - 0s 35ms/step\n",
            "8.0\n"
          ]
        },
        {
          "output_type": "error",
          "ename": "KeyboardInterrupt",
          "evalue": "",
          "traceback": [
            "\u001b[0;31m---------------------------------------------------------------------------\u001b[0m",
            "\u001b[0;31mKeyboardInterrupt\u001b[0m                         Traceback (most recent call last)",
            "\u001b[0;32m<ipython-input-28-95cac3476493>\u001b[0m in \u001b[0;36m<cell line: 1>\u001b[0;34m()\u001b[0m\n\u001b[0;32m----> 1\u001b[0;31m \u001b[0manvil\u001b[0m\u001b[0;34m.\u001b[0m\u001b[0mserver\u001b[0m\u001b[0;34m.\u001b[0m\u001b[0mwait_forever\u001b[0m\u001b[0;34m(\u001b[0m\u001b[0;34m)\u001b[0m\u001b[0;34m\u001b[0m\u001b[0;34m\u001b[0m\u001b[0m\n\u001b[0m",
            "\u001b[0;32m/usr/local/lib/python3.10/dist-packages/anvil/server.py\u001b[0m in \u001b[0;36mwait_forever\u001b[0;34m()\u001b[0m\n\u001b[1;32m    435\u001b[0m     \u001b[0m_get_connection\u001b[0m\u001b[0;34m(\u001b[0m\u001b[0;34m)\u001b[0m\u001b[0;34m\u001b[0m\u001b[0;34m\u001b[0m\u001b[0m\n\u001b[1;32m    436\u001b[0m     \u001b[0;32mwhile\u001b[0m \u001b[0;32mTrue\u001b[0m\u001b[0;34m:\u001b[0m\u001b[0;34m\u001b[0m\u001b[0;34m\u001b[0m\u001b[0m\n\u001b[0;32m--> 437\u001b[0;31m         \u001b[0mtime\u001b[0m\u001b[0;34m.\u001b[0m\u001b[0msleep\u001b[0m\u001b[0;34m(\u001b[0m\u001b[0;36m1\u001b[0m\u001b[0;34m)\u001b[0m\u001b[0;34m\u001b[0m\u001b[0;34m\u001b[0m\u001b[0m\n\u001b[0m",
            "\u001b[0;31mKeyboardInterrupt\u001b[0m: "
          ]
        }
      ]
    }
  ],
  "metadata": {
    "colab": {
      "provenance": [],
      "toc_visible": true,
      "include_colab_link": true
    },
    "kernelspec": {
      "display_name": "Python 3",
      "name": "python3"
    },
    "language_info": {
      "name": "python"
    }
  },
  "nbformat": 4,
  "nbformat_minor": 0
}